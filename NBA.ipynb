{
 "cells": [
  {
   "cell_type": "code",
   "execution_count": 83,
   "metadata": {},
   "outputs": [],
   "source": [
    "\n",
    "import numpy as np\n",
    "import pandas as pd\n",
    "pd.set_option('display.max_columns', 500)\n",
    "from string import ascii_letters\n",
    "import matplotlib.pyplot as plt\n",
    "import seaborn as sns\n",
    "\n",
    "from sklearn.feature_selection import SelectPercentile, univariate_selection, RFE\n",
    "from sklearn.model_selection import train_test_split, RandomizedSearchCV, GridSearchCV, cross_val_score, RepeatedStratifiedKFold,\\\n",
    "StratifiedKFold\n",
    "from sklearn.preprocessing import PolynomialFeatures, StandardScaler, OneHotEncoder\n",
    "from sklearn.decomposition import PCA\n",
    "from sklearn.impute import SimpleImputer\n",
    "from sklearn.compose import ColumnTransformer\n",
    "from sklearn.linear_model import LogisticRegression\n",
    "from sklearn.neighbors import KNeighborsClassifier\n",
    "from sklearn.ensemble import RandomForestClassifier, VotingClassifier\n",
    "from sklearn.metrics import classification_report, plot_confusion_matrix, precision_recall_curve, plot_precision_recall_curve, confusion_matrix, roc_auc_score, roc_curve, auc, recall_score\n",
    "from imblearn.pipeline import Pipeline\n",
    "from imblearn.over_sampling import RandomOverSampler, SMOTE\n",
    "import category_encoders as ce\n",
    "from scipy import stats\n",
    "from sklearn.tree import DecisionTreeClassifier\n",
    "\n",
    "\n",
    "\n",
    "import matplotlib\n"
   ]
  },
  {
   "cell_type": "code",
   "execution_count": 2,
   "metadata": {},
   "outputs": [],
   "source": [
    "from statsmodels.stats.outliers_influence import variance_inflation_factor\n",
    "from statsmodels.tools.tools import add_constant"
   ]
  },
  {
   "cell_type": "markdown",
   "metadata": {},
   "source": [
    "# __1. Data Preprocessing__"
   ]
  },
  {
   "cell_type": "code",
   "execution_count": 3,
   "metadata": {},
   "outputs": [],
   "source": [
    "nba = pd.read_csv('nba_players.csv')"
   ]
  },
  {
   "cell_type": "code",
   "execution_count": 4,
   "metadata": {},
   "outputs": [],
   "source": [
    "nba= nba.set_index('Unnamed: 0.1')\n"
   ]
  },
  {
   "cell_type": "code",
   "execution_count": 5,
   "metadata": {},
   "outputs": [],
   "source": [
    "nba = nba.set_index('Unnamed: 0')"
   ]
  },
  {
   "cell_type": "code",
   "execution_count": 6,
   "metadata": {},
   "outputs": [
    {
     "data": {
      "text/html": [
       "<div>\n",
       "<style scoped>\n",
       "    .dataframe tbody tr th:only-of-type {\n",
       "        vertical-align: middle;\n",
       "    }\n",
       "\n",
       "    .dataframe tbody tr th {\n",
       "        vertical-align: top;\n",
       "    }\n",
       "\n",
       "    .dataframe thead th {\n",
       "        text-align: right;\n",
       "    }\n",
       "</style>\n",
       "<table border=\"1\" class=\"dataframe\">\n",
       "  <thead>\n",
       "    <tr style=\"text-align: right;\">\n",
       "      <th></th>\n",
       "      <th>player_name</th>\n",
       "      <th>team_abbreviation</th>\n",
       "      <th>age</th>\n",
       "      <th>player_height</th>\n",
       "      <th>player_weight</th>\n",
       "      <th>college</th>\n",
       "      <th>country</th>\n",
       "      <th>draft_year</th>\n",
       "      <th>draft_round</th>\n",
       "      <th>draft_number</th>\n",
       "      <th>gp</th>\n",
       "      <th>pts</th>\n",
       "      <th>reb</th>\n",
       "      <th>ast</th>\n",
       "      <th>net_rating</th>\n",
       "      <th>oreb_pct</th>\n",
       "      <th>dreb_pct</th>\n",
       "      <th>usg_pct</th>\n",
       "      <th>ts_pct</th>\n",
       "      <th>ast_pct</th>\n",
       "      <th>season</th>\n",
       "      <th>potential_player</th>\n",
       "    </tr>\n",
       "    <tr>\n",
       "      <th>Unnamed: 0</th>\n",
       "      <th></th>\n",
       "      <th></th>\n",
       "      <th></th>\n",
       "      <th></th>\n",
       "      <th></th>\n",
       "      <th></th>\n",
       "      <th></th>\n",
       "      <th></th>\n",
       "      <th></th>\n",
       "      <th></th>\n",
       "      <th></th>\n",
       "      <th></th>\n",
       "      <th></th>\n",
       "      <th></th>\n",
       "      <th></th>\n",
       "      <th></th>\n",
       "      <th></th>\n",
       "      <th></th>\n",
       "      <th></th>\n",
       "      <th></th>\n",
       "      <th></th>\n",
       "      <th></th>\n",
       "    </tr>\n",
       "  </thead>\n",
       "  <tbody>\n",
       "    <tr>\n",
       "      <th>0</th>\n",
       "      <td>Dennis Rodman</td>\n",
       "      <td>CHI</td>\n",
       "      <td>36.0</td>\n",
       "      <td>198.12</td>\n",
       "      <td>99.790240</td>\n",
       "      <td>Southeastern Oklahoma State</td>\n",
       "      <td>USA</td>\n",
       "      <td>1986</td>\n",
       "      <td>2</td>\n",
       "      <td>27</td>\n",
       "      <td>55</td>\n",
       "      <td>5.7</td>\n",
       "      <td>16.1</td>\n",
       "      <td>3.1</td>\n",
       "      <td>16.1</td>\n",
       "      <td>0.186</td>\n",
       "      <td>0.323</td>\n",
       "      <td>0.100</td>\n",
       "      <td>0.479</td>\n",
       "      <td>0.113</td>\n",
       "      <td>1996-97</td>\n",
       "      <td>0</td>\n",
       "    </tr>\n",
       "    <tr>\n",
       "      <th>1</th>\n",
       "      <td>Dwayne Schintzius</td>\n",
       "      <td>LAC</td>\n",
       "      <td>28.0</td>\n",
       "      <td>215.90</td>\n",
       "      <td>117.933920</td>\n",
       "      <td>Florida</td>\n",
       "      <td>USA</td>\n",
       "      <td>1990</td>\n",
       "      <td>1</td>\n",
       "      <td>24</td>\n",
       "      <td>15</td>\n",
       "      <td>2.3</td>\n",
       "      <td>1.5</td>\n",
       "      <td>0.3</td>\n",
       "      <td>12.3</td>\n",
       "      <td>0.078</td>\n",
       "      <td>0.151</td>\n",
       "      <td>0.175</td>\n",
       "      <td>0.430</td>\n",
       "      <td>0.048</td>\n",
       "      <td>1996-97</td>\n",
       "      <td>0</td>\n",
       "    </tr>\n",
       "    <tr>\n",
       "      <th>2</th>\n",
       "      <td>Earl Cureton</td>\n",
       "      <td>TOR</td>\n",
       "      <td>39.0</td>\n",
       "      <td>205.74</td>\n",
       "      <td>95.254320</td>\n",
       "      <td>Detroit Mercy</td>\n",
       "      <td>USA</td>\n",
       "      <td>1979</td>\n",
       "      <td>3</td>\n",
       "      <td>58</td>\n",
       "      <td>9</td>\n",
       "      <td>0.8</td>\n",
       "      <td>1.0</td>\n",
       "      <td>0.4</td>\n",
       "      <td>-2.1</td>\n",
       "      <td>0.105</td>\n",
       "      <td>0.102</td>\n",
       "      <td>0.103</td>\n",
       "      <td>0.376</td>\n",
       "      <td>0.148</td>\n",
       "      <td>1996-97</td>\n",
       "      <td>0</td>\n",
       "    </tr>\n",
       "    <tr>\n",
       "      <th>3</th>\n",
       "      <td>Ed O'Bannon</td>\n",
       "      <td>DAL</td>\n",
       "      <td>24.0</td>\n",
       "      <td>203.20</td>\n",
       "      <td>100.697424</td>\n",
       "      <td>UCLA</td>\n",
       "      <td>USA</td>\n",
       "      <td>1995</td>\n",
       "      <td>1</td>\n",
       "      <td>9</td>\n",
       "      <td>64</td>\n",
       "      <td>3.7</td>\n",
       "      <td>2.3</td>\n",
       "      <td>0.6</td>\n",
       "      <td>-8.7</td>\n",
       "      <td>0.060</td>\n",
       "      <td>0.149</td>\n",
       "      <td>0.167</td>\n",
       "      <td>0.399</td>\n",
       "      <td>0.077</td>\n",
       "      <td>1996-97</td>\n",
       "      <td>0</td>\n",
       "    </tr>\n",
       "    <tr>\n",
       "      <th>4</th>\n",
       "      <td>Ed Pinckney</td>\n",
       "      <td>MIA</td>\n",
       "      <td>34.0</td>\n",
       "      <td>205.74</td>\n",
       "      <td>108.862080</td>\n",
       "      <td>Villanova</td>\n",
       "      <td>USA</td>\n",
       "      <td>1985</td>\n",
       "      <td>1</td>\n",
       "      <td>10</td>\n",
       "      <td>27</td>\n",
       "      <td>2.4</td>\n",
       "      <td>2.4</td>\n",
       "      <td>0.2</td>\n",
       "      <td>-11.2</td>\n",
       "      <td>0.109</td>\n",
       "      <td>0.179</td>\n",
       "      <td>0.127</td>\n",
       "      <td>0.611</td>\n",
       "      <td>0.040</td>\n",
       "      <td>1996-97</td>\n",
       "      <td>0</td>\n",
       "    </tr>\n",
       "    <tr>\n",
       "      <th>...</th>\n",
       "      <td>...</td>\n",
       "      <td>...</td>\n",
       "      <td>...</td>\n",
       "      <td>...</td>\n",
       "      <td>...</td>\n",
       "      <td>...</td>\n",
       "      <td>...</td>\n",
       "      <td>...</td>\n",
       "      <td>...</td>\n",
       "      <td>...</td>\n",
       "      <td>...</td>\n",
       "      <td>...</td>\n",
       "      <td>...</td>\n",
       "      <td>...</td>\n",
       "      <td>...</td>\n",
       "      <td>...</td>\n",
       "      <td>...</td>\n",
       "      <td>...</td>\n",
       "      <td>...</td>\n",
       "      <td>...</td>\n",
       "      <td>...</td>\n",
       "      <td>...</td>\n",
       "    </tr>\n",
       "    <tr>\n",
       "      <th>11140</th>\n",
       "      <td>Maxi Kleber</td>\n",
       "      <td>DAL</td>\n",
       "      <td>28.0</td>\n",
       "      <td>208.28</td>\n",
       "      <td>108.862080</td>\n",
       "      <td>None</td>\n",
       "      <td>Germany</td>\n",
       "      <td>Undrafted</td>\n",
       "      <td>Undrafted</td>\n",
       "      <td>Undrafted</td>\n",
       "      <td>63</td>\n",
       "      <td>9.1</td>\n",
       "      <td>5.4</td>\n",
       "      <td>1.1</td>\n",
       "      <td>4.6</td>\n",
       "      <td>0.056</td>\n",
       "      <td>0.140</td>\n",
       "      <td>0.136</td>\n",
       "      <td>0.605</td>\n",
       "      <td>0.064</td>\n",
       "      <td>2019-20</td>\n",
       "      <td>0</td>\n",
       "    </tr>\n",
       "    <tr>\n",
       "      <th>11141</th>\n",
       "      <td>Melvin Frazier Jr.</td>\n",
       "      <td>ORL</td>\n",
       "      <td>23.0</td>\n",
       "      <td>195.58</td>\n",
       "      <td>97.522280</td>\n",
       "      <td>Tulane</td>\n",
       "      <td>USA</td>\n",
       "      <td>2018</td>\n",
       "      <td>2</td>\n",
       "      <td>35</td>\n",
       "      <td>15</td>\n",
       "      <td>1.2</td>\n",
       "      <td>0.3</td>\n",
       "      <td>0.1</td>\n",
       "      <td>-2.4</td>\n",
       "      <td>0.018</td>\n",
       "      <td>0.058</td>\n",
       "      <td>0.164</td>\n",
       "      <td>0.480</td>\n",
       "      <td>0.033</td>\n",
       "      <td>2019-20</td>\n",
       "      <td>0</td>\n",
       "    </tr>\n",
       "    <tr>\n",
       "      <th>11142</th>\n",
       "      <td>Meyers Leonard</td>\n",
       "      <td>MIA</td>\n",
       "      <td>28.0</td>\n",
       "      <td>213.36</td>\n",
       "      <td>117.933920</td>\n",
       "      <td>Illinois</td>\n",
       "      <td>USA</td>\n",
       "      <td>2012</td>\n",
       "      <td>1</td>\n",
       "      <td>11</td>\n",
       "      <td>49</td>\n",
       "      <td>6.1</td>\n",
       "      <td>5.1</td>\n",
       "      <td>1.1</td>\n",
       "      <td>5.6</td>\n",
       "      <td>0.029</td>\n",
       "      <td>0.217</td>\n",
       "      <td>0.120</td>\n",
       "      <td>0.640</td>\n",
       "      <td>0.076</td>\n",
       "      <td>2019-20</td>\n",
       "      <td>0</td>\n",
       "    </tr>\n",
       "    <tr>\n",
       "      <th>11143</th>\n",
       "      <td>Norvel Pelle</td>\n",
       "      <td>PHI</td>\n",
       "      <td>27.0</td>\n",
       "      <td>208.28</td>\n",
       "      <td>104.779752</td>\n",
       "      <td>None</td>\n",
       "      <td>USA</td>\n",
       "      <td>Undrafted</td>\n",
       "      <td>Undrafted</td>\n",
       "      <td>Undrafted</td>\n",
       "      <td>20</td>\n",
       "      <td>2.1</td>\n",
       "      <td>3.0</td>\n",
       "      <td>0.4</td>\n",
       "      <td>-16.4</td>\n",
       "      <td>0.085</td>\n",
       "      <td>0.237</td>\n",
       "      <td>0.126</td>\n",
       "      <td>0.521</td>\n",
       "      <td>0.056</td>\n",
       "      <td>2019-20</td>\n",
       "      <td>0</td>\n",
       "    </tr>\n",
       "    <tr>\n",
       "      <th>11144</th>\n",
       "      <td>Matt Thomas</td>\n",
       "      <td>TOR</td>\n",
       "      <td>25.0</td>\n",
       "      <td>193.04</td>\n",
       "      <td>86.182480</td>\n",
       "      <td>Iowa State</td>\n",
       "      <td>USA</td>\n",
       "      <td>Undrafted</td>\n",
       "      <td>Undrafted</td>\n",
       "      <td>Undrafted</td>\n",
       "      <td>31</td>\n",
       "      <td>4.5</td>\n",
       "      <td>1.4</td>\n",
       "      <td>0.5</td>\n",
       "      <td>1.0</td>\n",
       "      <td>0.017</td>\n",
       "      <td>0.104</td>\n",
       "      <td>0.149</td>\n",
       "      <td>0.663</td>\n",
       "      <td>0.089</td>\n",
       "      <td>2019-20</td>\n",
       "      <td>0</td>\n",
       "    </tr>\n",
       "  </tbody>\n",
       "</table>\n",
       "<p>11145 rows × 22 columns</p>\n",
       "</div>"
      ],
      "text/plain": [
       "                   player_name team_abbreviation   age  player_height  \\\n",
       "Unnamed: 0                                                              \n",
       "0                Dennis Rodman               CHI  36.0         198.12   \n",
       "1            Dwayne Schintzius               LAC  28.0         215.90   \n",
       "2                 Earl Cureton               TOR  39.0         205.74   \n",
       "3                  Ed O'Bannon               DAL  24.0         203.20   \n",
       "4                  Ed Pinckney               MIA  34.0         205.74   \n",
       "...                        ...               ...   ...            ...   \n",
       "11140              Maxi Kleber               DAL  28.0         208.28   \n",
       "11141       Melvin Frazier Jr.               ORL  23.0         195.58   \n",
       "11142           Meyers Leonard               MIA  28.0         213.36   \n",
       "11143             Norvel Pelle               PHI  27.0         208.28   \n",
       "11144              Matt Thomas               TOR  25.0         193.04   \n",
       "\n",
       "            player_weight                      college  country draft_year  \\\n",
       "Unnamed: 0                                                                   \n",
       "0               99.790240  Southeastern Oklahoma State      USA       1986   \n",
       "1              117.933920                      Florida      USA       1990   \n",
       "2               95.254320                Detroit Mercy      USA       1979   \n",
       "3              100.697424                         UCLA      USA       1995   \n",
       "4              108.862080                    Villanova      USA       1985   \n",
       "...                   ...                          ...      ...        ...   \n",
       "11140          108.862080                         None  Germany  Undrafted   \n",
       "11141           97.522280                       Tulane      USA       2018   \n",
       "11142          117.933920                     Illinois      USA       2012   \n",
       "11143          104.779752                         None      USA  Undrafted   \n",
       "11144           86.182480                   Iowa State      USA  Undrafted   \n",
       "\n",
       "           draft_round draft_number  gp  pts   reb  ast  net_rating  oreb_pct  \\\n",
       "Unnamed: 0                                                                      \n",
       "0                    2           27  55  5.7  16.1  3.1        16.1     0.186   \n",
       "1                    1           24  15  2.3   1.5  0.3        12.3     0.078   \n",
       "2                    3           58   9  0.8   1.0  0.4        -2.1     0.105   \n",
       "3                    1            9  64  3.7   2.3  0.6        -8.7     0.060   \n",
       "4                    1           10  27  2.4   2.4  0.2       -11.2     0.109   \n",
       "...                ...          ...  ..  ...   ...  ...         ...       ...   \n",
       "11140        Undrafted    Undrafted  63  9.1   5.4  1.1         4.6     0.056   \n",
       "11141                2           35  15  1.2   0.3  0.1        -2.4     0.018   \n",
       "11142                1           11  49  6.1   5.1  1.1         5.6     0.029   \n",
       "11143        Undrafted    Undrafted  20  2.1   3.0  0.4       -16.4     0.085   \n",
       "11144        Undrafted    Undrafted  31  4.5   1.4  0.5         1.0     0.017   \n",
       "\n",
       "            dreb_pct  usg_pct  ts_pct  ast_pct   season  potential_player  \n",
       "Unnamed: 0                                                                 \n",
       "0              0.323    0.100   0.479    0.113  1996-97                 0  \n",
       "1              0.151    0.175   0.430    0.048  1996-97                 0  \n",
       "2              0.102    0.103   0.376    0.148  1996-97                 0  \n",
       "3              0.149    0.167   0.399    0.077  1996-97                 0  \n",
       "4              0.179    0.127   0.611    0.040  1996-97                 0  \n",
       "...              ...      ...     ...      ...      ...               ...  \n",
       "11140          0.140    0.136   0.605    0.064  2019-20                 0  \n",
       "11141          0.058    0.164   0.480    0.033  2019-20                 0  \n",
       "11142          0.217    0.120   0.640    0.076  2019-20                 0  \n",
       "11143          0.237    0.126   0.521    0.056  2019-20                 0  \n",
       "11144          0.104    0.149   0.663    0.089  2019-20                 0  \n",
       "\n",
       "[11145 rows x 22 columns]"
      ]
     },
     "execution_count": 6,
     "metadata": {},
     "output_type": "execute_result"
    }
   ],
   "source": [
    "nba"
   ]
  },
  {
   "cell_type": "code",
   "execution_count": 7,
   "metadata": {},
   "outputs": [
    {
     "name": "stdout",
     "output_type": "stream",
     "text": [
      "<class 'pandas.core.frame.DataFrame'>\n",
      "Int64Index: 11145 entries, 0 to 11144\n",
      "Data columns (total 22 columns):\n",
      " #   Column             Non-Null Count  Dtype  \n",
      "---  ------             --------------  -----  \n",
      " 0   player_name        11145 non-null  object \n",
      " 1   team_abbreviation  11145 non-null  object \n",
      " 2   age                11145 non-null  float64\n",
      " 3   player_height      11145 non-null  float64\n",
      " 4   player_weight      11145 non-null  float64\n",
      " 5   college            11145 non-null  object \n",
      " 6   country            11145 non-null  object \n",
      " 7   draft_year         11145 non-null  object \n",
      " 8   draft_round        11145 non-null  object \n",
      " 9   draft_number       11145 non-null  object \n",
      " 10  gp                 11145 non-null  int64  \n",
      " 11  pts                11145 non-null  float64\n",
      " 12  reb                11145 non-null  float64\n",
      " 13  ast                11145 non-null  float64\n",
      " 14  net_rating         11145 non-null  float64\n",
      " 15  oreb_pct           11145 non-null  float64\n",
      " 16  dreb_pct           11145 non-null  float64\n",
      " 17  usg_pct            11145 non-null  float64\n",
      " 18  ts_pct             11145 non-null  float64\n",
      " 19  ast_pct            11145 non-null  float64\n",
      " 20  season             11145 non-null  object \n",
      " 21  potential_player   11145 non-null  int64  \n",
      "dtypes: float64(12), int64(2), object(8)\n",
      "memory usage: 2.0+ MB\n"
     ]
    }
   ],
   "source": [
    "nba.info()"
   ]
  },
  {
   "cell_type": "code",
   "execution_count": 8,
   "metadata": {},
   "outputs": [
    {
     "data": {
      "text/plain": [
       "player_name          0\n",
       "team_abbreviation    0\n",
       "age                  0\n",
       "player_height        0\n",
       "player_weight        0\n",
       "college              0\n",
       "country              0\n",
       "draft_year           0\n",
       "draft_round          0\n",
       "draft_number         0\n",
       "gp                   0\n",
       "pts                  0\n",
       "reb                  0\n",
       "ast                  0\n",
       "net_rating           0\n",
       "oreb_pct             0\n",
       "dreb_pct             0\n",
       "usg_pct              0\n",
       "ts_pct               0\n",
       "ast_pct              0\n",
       "season               0\n",
       "potential_player     0\n",
       "dtype: int64"
      ]
     },
     "execution_count": 8,
     "metadata": {},
     "output_type": "execute_result"
    }
   ],
   "source": [
    "nba.isna().sum()"
   ]
  },
  {
   "cell_type": "code",
   "execution_count": 9,
   "metadata": {},
   "outputs": [
    {
     "data": {
      "text/html": [
       "<div>\n",
       "<style scoped>\n",
       "    .dataframe tbody tr th:only-of-type {\n",
       "        vertical-align: middle;\n",
       "    }\n",
       "\n",
       "    .dataframe tbody tr th {\n",
       "        vertical-align: top;\n",
       "    }\n",
       "\n",
       "    .dataframe thead th {\n",
       "        text-align: right;\n",
       "    }\n",
       "</style>\n",
       "<table border=\"1\" class=\"dataframe\">\n",
       "  <thead>\n",
       "    <tr style=\"text-align: right;\">\n",
       "      <th></th>\n",
       "      <th>age</th>\n",
       "      <th>player_height</th>\n",
       "      <th>player_weight</th>\n",
       "      <th>gp</th>\n",
       "      <th>pts</th>\n",
       "      <th>reb</th>\n",
       "      <th>ast</th>\n",
       "      <th>net_rating</th>\n",
       "      <th>oreb_pct</th>\n",
       "      <th>dreb_pct</th>\n",
       "      <th>usg_pct</th>\n",
       "      <th>ts_pct</th>\n",
       "      <th>ast_pct</th>\n",
       "      <th>potential_player</th>\n",
       "    </tr>\n",
       "  </thead>\n",
       "  <tbody>\n",
       "    <tr>\n",
       "      <th>count</th>\n",
       "      <td>11145.000000</td>\n",
       "      <td>11145.000000</td>\n",
       "      <td>11145.000000</td>\n",
       "      <td>11145.000000</td>\n",
       "      <td>11145.000000</td>\n",
       "      <td>11145.000000</td>\n",
       "      <td>11145.000000</td>\n",
       "      <td>11145.000000</td>\n",
       "      <td>11145.000000</td>\n",
       "      <td>11145.000000</td>\n",
       "      <td>11145.000000</td>\n",
       "      <td>11145.000000</td>\n",
       "      <td>11145.000000</td>\n",
       "      <td>11145.000000</td>\n",
       "    </tr>\n",
       "    <tr>\n",
       "      <th>mean</th>\n",
       "      <td>27.168686</td>\n",
       "      <td>200.812818</td>\n",
       "      <td>100.637868</td>\n",
       "      <td>52.005832</td>\n",
       "      <td>8.126487</td>\n",
       "      <td>3.560036</td>\n",
       "      <td>1.801463</td>\n",
       "      <td>-2.153899</td>\n",
       "      <td>0.055593</td>\n",
       "      <td>0.141772</td>\n",
       "      <td>0.185599</td>\n",
       "      <td>0.508099</td>\n",
       "      <td>0.131078</td>\n",
       "      <td>0.040825</td>\n",
       "    </tr>\n",
       "    <tr>\n",
       "      <th>std</th>\n",
       "      <td>4.344164</td>\n",
       "      <td>9.190973</td>\n",
       "      <td>12.576295</td>\n",
       "      <td>25.069495</td>\n",
       "      <td>5.935482</td>\n",
       "      <td>2.495394</td>\n",
       "      <td>1.789940</td>\n",
       "      <td>12.150611</td>\n",
       "      <td>0.043889</td>\n",
       "      <td>0.063194</td>\n",
       "      <td>0.053047</td>\n",
       "      <td>0.098879</td>\n",
       "      <td>0.095017</td>\n",
       "      <td>0.197895</td>\n",
       "    </tr>\n",
       "    <tr>\n",
       "      <th>min</th>\n",
       "      <td>18.000000</td>\n",
       "      <td>160.020000</td>\n",
       "      <td>60.327736</td>\n",
       "      <td>1.000000</td>\n",
       "      <td>0.000000</td>\n",
       "      <td>0.000000</td>\n",
       "      <td>0.000000</td>\n",
       "      <td>-200.000000</td>\n",
       "      <td>0.000000</td>\n",
       "      <td>0.000000</td>\n",
       "      <td>0.000000</td>\n",
       "      <td>0.000000</td>\n",
       "      <td>0.000000</td>\n",
       "      <td>0.000000</td>\n",
       "    </tr>\n",
       "    <tr>\n",
       "      <th>25%</th>\n",
       "      <td>24.000000</td>\n",
       "      <td>195.580000</td>\n",
       "      <td>90.718400</td>\n",
       "      <td>32.000000</td>\n",
       "      <td>3.500000</td>\n",
       "      <td>1.800000</td>\n",
       "      <td>0.600000</td>\n",
       "      <td>-6.300000</td>\n",
       "      <td>0.022000</td>\n",
       "      <td>0.096000</td>\n",
       "      <td>0.150000</td>\n",
       "      <td>0.478000</td>\n",
       "      <td>0.065000</td>\n",
       "      <td>0.000000</td>\n",
       "    </tr>\n",
       "    <tr>\n",
       "      <th>50%</th>\n",
       "      <td>27.000000</td>\n",
       "      <td>200.660000</td>\n",
       "      <td>99.790240</td>\n",
       "      <td>58.000000</td>\n",
       "      <td>6.600000</td>\n",
       "      <td>3.000000</td>\n",
       "      <td>1.200000</td>\n",
       "      <td>-1.300000</td>\n",
       "      <td>0.043000</td>\n",
       "      <td>0.132000</td>\n",
       "      <td>0.182000</td>\n",
       "      <td>0.521000</td>\n",
       "      <td>0.102000</td>\n",
       "      <td>0.000000</td>\n",
       "    </tr>\n",
       "    <tr>\n",
       "      <th>75%</th>\n",
       "      <td>30.000000</td>\n",
       "      <td>208.280000</td>\n",
       "      <td>109.315672</td>\n",
       "      <td>74.000000</td>\n",
       "      <td>11.500000</td>\n",
       "      <td>4.700000</td>\n",
       "      <td>2.400000</td>\n",
       "      <td>3.200000</td>\n",
       "      <td>0.086000</td>\n",
       "      <td>0.182000</td>\n",
       "      <td>0.218000</td>\n",
       "      <td>0.557000</td>\n",
       "      <td>0.178000</td>\n",
       "      <td>0.000000</td>\n",
       "    </tr>\n",
       "    <tr>\n",
       "      <th>max</th>\n",
       "      <td>44.000000</td>\n",
       "      <td>231.140000</td>\n",
       "      <td>163.293120</td>\n",
       "      <td>85.000000</td>\n",
       "      <td>36.100000</td>\n",
       "      <td>16.300000</td>\n",
       "      <td>11.700000</td>\n",
       "      <td>300.000000</td>\n",
       "      <td>1.000000</td>\n",
       "      <td>1.000000</td>\n",
       "      <td>1.000000</td>\n",
       "      <td>1.500000</td>\n",
       "      <td>1.000000</td>\n",
       "      <td>1.000000</td>\n",
       "    </tr>\n",
       "  </tbody>\n",
       "</table>\n",
       "</div>"
      ],
      "text/plain": [
       "                age  player_height  player_weight            gp           pts  \\\n",
       "count  11145.000000   11145.000000   11145.000000  11145.000000  11145.000000   \n",
       "mean      27.168686     200.812818     100.637868     52.005832      8.126487   \n",
       "std        4.344164       9.190973      12.576295     25.069495      5.935482   \n",
       "min       18.000000     160.020000      60.327736      1.000000      0.000000   \n",
       "25%       24.000000     195.580000      90.718400     32.000000      3.500000   \n",
       "50%       27.000000     200.660000      99.790240     58.000000      6.600000   \n",
       "75%       30.000000     208.280000     109.315672     74.000000     11.500000   \n",
       "max       44.000000     231.140000     163.293120     85.000000     36.100000   \n",
       "\n",
       "                reb           ast    net_rating      oreb_pct      dreb_pct  \\\n",
       "count  11145.000000  11145.000000  11145.000000  11145.000000  11145.000000   \n",
       "mean       3.560036      1.801463     -2.153899      0.055593      0.141772   \n",
       "std        2.495394      1.789940     12.150611      0.043889      0.063194   \n",
       "min        0.000000      0.000000   -200.000000      0.000000      0.000000   \n",
       "25%        1.800000      0.600000     -6.300000      0.022000      0.096000   \n",
       "50%        3.000000      1.200000     -1.300000      0.043000      0.132000   \n",
       "75%        4.700000      2.400000      3.200000      0.086000      0.182000   \n",
       "max       16.300000     11.700000    300.000000      1.000000      1.000000   \n",
       "\n",
       "            usg_pct        ts_pct       ast_pct  potential_player  \n",
       "count  11145.000000  11145.000000  11145.000000      11145.000000  \n",
       "mean       0.185599      0.508099      0.131078          0.040825  \n",
       "std        0.053047      0.098879      0.095017          0.197895  \n",
       "min        0.000000      0.000000      0.000000          0.000000  \n",
       "25%        0.150000      0.478000      0.065000          0.000000  \n",
       "50%        0.182000      0.521000      0.102000          0.000000  \n",
       "75%        0.218000      0.557000      0.178000          0.000000  \n",
       "max        1.000000      1.500000      1.000000          1.000000  "
      ]
     },
     "execution_count": 9,
     "metadata": {},
     "output_type": "execute_result"
    }
   ],
   "source": [
    "nba.describe()"
   ]
  },
  {
   "cell_type": "code",
   "execution_count": 10,
   "metadata": {},
   "outputs": [],
   "source": [
    "def calc_vif(x):\n",
    "    \n",
    "    vif = pd.DataFrame()\n",
    "    vif['variables'] = x.columns\n",
    "    vif['VIF'] = [variance_inflation_factor(x.values, i) for i in range(x.shape[1])]\n",
    "    \n",
    "    return vif"
   ]
  },
  {
   "cell_type": "code",
   "execution_count": 11,
   "metadata": {},
   "outputs": [
    {
     "data": {
      "text/html": [
       "<div>\n",
       "<style scoped>\n",
       "    .dataframe tbody tr th:only-of-type {\n",
       "        vertical-align: middle;\n",
       "    }\n",
       "\n",
       "    .dataframe tbody tr th {\n",
       "        vertical-align: top;\n",
       "    }\n",
       "\n",
       "    .dataframe thead th {\n",
       "        text-align: right;\n",
       "    }\n",
       "</style>\n",
       "<table border=\"1\" class=\"dataframe\">\n",
       "  <thead>\n",
       "    <tr style=\"text-align: right;\">\n",
       "      <th></th>\n",
       "      <th>variables</th>\n",
       "      <th>VIF</th>\n",
       "    </tr>\n",
       "  </thead>\n",
       "  <tbody>\n",
       "    <tr>\n",
       "      <th>0</th>\n",
       "      <td>age</td>\n",
       "      <td>41.595580</td>\n",
       "    </tr>\n",
       "    <tr>\n",
       "      <th>1</th>\n",
       "      <td>player_height</td>\n",
       "      <td>284.634827</td>\n",
       "    </tr>\n",
       "    <tr>\n",
       "      <th>2</th>\n",
       "      <td>player_weight</td>\n",
       "      <td>207.917918</td>\n",
       "    </tr>\n",
       "    <tr>\n",
       "      <th>3</th>\n",
       "      <td>gp</td>\n",
       "      <td>9.077819</td>\n",
       "    </tr>\n",
       "    <tr>\n",
       "      <th>4</th>\n",
       "      <td>pts</td>\n",
       "      <td>22.305167</td>\n",
       "    </tr>\n",
       "    <tr>\n",
       "      <th>5</th>\n",
       "      <td>reb</td>\n",
       "      <td>15.616245</td>\n",
       "    </tr>\n",
       "    <tr>\n",
       "      <th>6</th>\n",
       "      <td>ast</td>\n",
       "      <td>12.611830</td>\n",
       "    </tr>\n",
       "    <tr>\n",
       "      <th>7</th>\n",
       "      <td>net_rating</td>\n",
       "      <td>1.208323</td>\n",
       "    </tr>\n",
       "    <tr>\n",
       "      <th>8</th>\n",
       "      <td>oreb_pct</td>\n",
       "      <td>5.452024</td>\n",
       "    </tr>\n",
       "    <tr>\n",
       "      <th>9</th>\n",
       "      <td>dreb_pct</td>\n",
       "      <td>15.559180</td>\n",
       "    </tr>\n",
       "    <tr>\n",
       "      <th>10</th>\n",
       "      <td>usg_pct</td>\n",
       "      <td>32.017284</td>\n",
       "    </tr>\n",
       "    <tr>\n",
       "      <th>11</th>\n",
       "      <td>ts_pct</td>\n",
       "      <td>36.281833</td>\n",
       "    </tr>\n",
       "    <tr>\n",
       "      <th>12</th>\n",
       "      <td>ast_pct</td>\n",
       "      <td>12.717154</td>\n",
       "    </tr>\n",
       "  </tbody>\n",
       "</table>\n",
       "</div>"
      ],
      "text/plain": [
       "        variables         VIF\n",
       "0             age   41.595580\n",
       "1   player_height  284.634827\n",
       "2   player_weight  207.917918\n",
       "3              gp    9.077819\n",
       "4             pts   22.305167\n",
       "5             reb   15.616245\n",
       "6             ast   12.611830\n",
       "7      net_rating    1.208323\n",
       "8        oreb_pct    5.452024\n",
       "9        dreb_pct   15.559180\n",
       "10        usg_pct   32.017284\n",
       "11         ts_pct   36.281833\n",
       "12        ast_pct   12.717154"
      ]
     },
     "execution_count": 11,
     "metadata": {},
     "output_type": "execute_result"
    }
   ],
   "source": [
    "calc_vif(nba[['age', 'player_height', 'player_weight','gp', 'pts', 'reb','ast','net_rating', 'oreb_pct', 'dreb_pct', 'usg_pct', 'ts_pct', 'ast_pct']])"
   ]
  },
  {
   "cell_type": "markdown",
   "metadata": {},
   "source": [
    "## based on the variance inflation factor of the variables above, it can be concluded that except for net_rating all of the features above are highly collinear so it will be reduced using Principal Component Analysis"
   ]
  },
  {
   "cell_type": "code",
   "execution_count": 12,
   "metadata": {},
   "outputs": [],
   "source": [
    "def report(df):\n",
    "    col = []\n",
    "    d_type = []\n",
    "    uniques = []\n",
    "    n_uniques = []\n",
    "    null_values = []\n",
    "    for i in df.columns:\n",
    "        col.append(i)\n",
    "        d_type.append(df[i].dtypes)\n",
    "        uniques.append(df[i].unique()[:5])\n",
    "        n_uniques.append(df[i].nunique())\n",
    "        null_values.append(df[i].isna().sum())\n",
    "    return pd.DataFrame({'Column': col, 'd_type': d_type, 'unique_sample': uniques, 'n_uniques': n_uniques, 'null_values': null_values})"
   ]
  },
  {
   "cell_type": "code",
   "execution_count": 13,
   "metadata": {},
   "outputs": [
    {
     "data": {
      "text/html": [
       "<div>\n",
       "<style scoped>\n",
       "    .dataframe tbody tr th:only-of-type {\n",
       "        vertical-align: middle;\n",
       "    }\n",
       "\n",
       "    .dataframe tbody tr th {\n",
       "        vertical-align: top;\n",
       "    }\n",
       "\n",
       "    .dataframe thead th {\n",
       "        text-align: right;\n",
       "    }\n",
       "</style>\n",
       "<table border=\"1\" class=\"dataframe\">\n",
       "  <thead>\n",
       "    <tr style=\"text-align: right;\">\n",
       "      <th></th>\n",
       "      <th>Column</th>\n",
       "      <th>d_type</th>\n",
       "      <th>unique_sample</th>\n",
       "      <th>n_uniques</th>\n",
       "      <th>null_values</th>\n",
       "    </tr>\n",
       "  </thead>\n",
       "  <tbody>\n",
       "    <tr>\n",
       "      <th>0</th>\n",
       "      <td>player_name</td>\n",
       "      <td>object</td>\n",
       "      <td>[Dennis Rodman, Dwayne Schintzius, Earl Cureto...</td>\n",
       "      <td>2235</td>\n",
       "      <td>0</td>\n",
       "    </tr>\n",
       "    <tr>\n",
       "      <th>1</th>\n",
       "      <td>team_abbreviation</td>\n",
       "      <td>object</td>\n",
       "      <td>[CHI, LAC, TOR, DAL, MIA]</td>\n",
       "      <td>36</td>\n",
       "      <td>0</td>\n",
       "    </tr>\n",
       "    <tr>\n",
       "      <th>2</th>\n",
       "      <td>age</td>\n",
       "      <td>float64</td>\n",
       "      <td>[36.0, 28.0, 39.0, 24.0, 34.0]</td>\n",
       "      <td>27</td>\n",
       "      <td>0</td>\n",
       "    </tr>\n",
       "    <tr>\n",
       "      <th>3</th>\n",
       "      <td>player_height</td>\n",
       "      <td>float64</td>\n",
       "      <td>[198.12, 215.9, 205.74, 203.2, 200.66]</td>\n",
       "      <td>30</td>\n",
       "      <td>0</td>\n",
       "    </tr>\n",
       "    <tr>\n",
       "      <th>4</th>\n",
       "      <td>player_weight</td>\n",
       "      <td>float64</td>\n",
       "      <td>[99.79024, 117.93392, 95.25432, 100.697424, 10...</td>\n",
       "      <td>157</td>\n",
       "      <td>0</td>\n",
       "    </tr>\n",
       "    <tr>\n",
       "      <th>5</th>\n",
       "      <td>college</td>\n",
       "      <td>object</td>\n",
       "      <td>[Southeastern Oklahoma State, Florida, Detroit...</td>\n",
       "      <td>316</td>\n",
       "      <td>0</td>\n",
       "    </tr>\n",
       "    <tr>\n",
       "      <th>6</th>\n",
       "      <td>country</td>\n",
       "      <td>object</td>\n",
       "      <td>[USA, Congo, Nigeria, Lithuania, Canada]</td>\n",
       "      <td>76</td>\n",
       "      <td>0</td>\n",
       "    </tr>\n",
       "    <tr>\n",
       "      <th>7</th>\n",
       "      <td>draft_year</td>\n",
       "      <td>object</td>\n",
       "      <td>[1986, 1990, 1979, 1995, 1985]</td>\n",
       "      <td>45</td>\n",
       "      <td>0</td>\n",
       "    </tr>\n",
       "    <tr>\n",
       "      <th>8</th>\n",
       "      <td>draft_round</td>\n",
       "      <td>object</td>\n",
       "      <td>[2, 1, 3, Undrafted, 4]</td>\n",
       "      <td>8</td>\n",
       "      <td>0</td>\n",
       "    </tr>\n",
       "    <tr>\n",
       "      <th>9</th>\n",
       "      <td>draft_number</td>\n",
       "      <td>object</td>\n",
       "      <td>[27, 24, 58, 9, 10]</td>\n",
       "      <td>75</td>\n",
       "      <td>0</td>\n",
       "    </tr>\n",
       "    <tr>\n",
       "      <th>10</th>\n",
       "      <td>gp</td>\n",
       "      <td>int64</td>\n",
       "      <td>[55, 15, 9, 64, 27]</td>\n",
       "      <td>85</td>\n",
       "      <td>0</td>\n",
       "    </tr>\n",
       "    <tr>\n",
       "      <th>11</th>\n",
       "      <td>pts</td>\n",
       "      <td>float64</td>\n",
       "      <td>[5.7, 2.3, 0.8, 3.7, 2.4]</td>\n",
       "      <td>308</td>\n",
       "      <td>0</td>\n",
       "    </tr>\n",
       "    <tr>\n",
       "      <th>12</th>\n",
       "      <td>reb</td>\n",
       "      <td>float64</td>\n",
       "      <td>[16.1, 1.5, 1.0, 2.3, 2.4]</td>\n",
       "      <td>154</td>\n",
       "      <td>0</td>\n",
       "    </tr>\n",
       "    <tr>\n",
       "      <th>13</th>\n",
       "      <td>ast</td>\n",
       "      <td>float64</td>\n",
       "      <td>[3.1, 0.3, 0.4, 0.6, 0.2]</td>\n",
       "      <td>114</td>\n",
       "      <td>0</td>\n",
       "    </tr>\n",
       "    <tr>\n",
       "      <th>14</th>\n",
       "      <td>net_rating</td>\n",
       "      <td>float64</td>\n",
       "      <td>[16.1, 12.3, -2.1, -8.7, -11.2]</td>\n",
       "      <td>707</td>\n",
       "      <td>0</td>\n",
       "    </tr>\n",
       "    <tr>\n",
       "      <th>15</th>\n",
       "      <td>oreb_pct</td>\n",
       "      <td>float64</td>\n",
       "      <td>[0.18600000000000005, 0.078, 0.105, 0.06, 0.109]</td>\n",
       "      <td>216</td>\n",
       "      <td>0</td>\n",
       "    </tr>\n",
       "    <tr>\n",
       "      <th>16</th>\n",
       "      <td>dreb_pct</td>\n",
       "      <td>float64</td>\n",
       "      <td>[0.32299999999999995, 0.151, 0.102, 0.149, 0.179]</td>\n",
       "      <td>351</td>\n",
       "      <td>0</td>\n",
       "    </tr>\n",
       "    <tr>\n",
       "      <th>17</th>\n",
       "      <td>usg_pct</td>\n",
       "      <td>float64</td>\n",
       "      <td>[0.1, 0.175, 0.10300000000000001, 0.1669999999...</td>\n",
       "      <td>341</td>\n",
       "      <td>0</td>\n",
       "    </tr>\n",
       "    <tr>\n",
       "      <th>18</th>\n",
       "      <td>ts_pct</td>\n",
       "      <td>float64</td>\n",
       "      <td>[0.479, 0.43, 0.376, 0.39899999999999997, 0.611]</td>\n",
       "      <td>529</td>\n",
       "      <td>0</td>\n",
       "    </tr>\n",
       "    <tr>\n",
       "      <th>19</th>\n",
       "      <td>ast_pct</td>\n",
       "      <td>float64</td>\n",
       "      <td>[0.113, 0.048, 0.14800000000000002, 0.077, 0.04]</td>\n",
       "      <td>479</td>\n",
       "      <td>0</td>\n",
       "    </tr>\n",
       "    <tr>\n",
       "      <th>20</th>\n",
       "      <td>season</td>\n",
       "      <td>object</td>\n",
       "      <td>[1996-97, 1997-98, 1998-99, 1999-00, 2000-01]</td>\n",
       "      <td>24</td>\n",
       "      <td>0</td>\n",
       "    </tr>\n",
       "    <tr>\n",
       "      <th>21</th>\n",
       "      <td>potential_player</td>\n",
       "      <td>int64</td>\n",
       "      <td>[0, 1]</td>\n",
       "      <td>2</td>\n",
       "      <td>0</td>\n",
       "    </tr>\n",
       "  </tbody>\n",
       "</table>\n",
       "</div>"
      ],
      "text/plain": [
       "               Column   d_type  \\\n",
       "0         player_name   object   \n",
       "1   team_abbreviation   object   \n",
       "2                 age  float64   \n",
       "3       player_height  float64   \n",
       "4       player_weight  float64   \n",
       "5             college   object   \n",
       "6             country   object   \n",
       "7          draft_year   object   \n",
       "8         draft_round   object   \n",
       "9        draft_number   object   \n",
       "10                 gp    int64   \n",
       "11                pts  float64   \n",
       "12                reb  float64   \n",
       "13                ast  float64   \n",
       "14         net_rating  float64   \n",
       "15           oreb_pct  float64   \n",
       "16           dreb_pct  float64   \n",
       "17            usg_pct  float64   \n",
       "18             ts_pct  float64   \n",
       "19            ast_pct  float64   \n",
       "20             season   object   \n",
       "21   potential_player    int64   \n",
       "\n",
       "                                        unique_sample  n_uniques  null_values  \n",
       "0   [Dennis Rodman, Dwayne Schintzius, Earl Cureto...       2235            0  \n",
       "1                           [CHI, LAC, TOR, DAL, MIA]         36            0  \n",
       "2                      [36.0, 28.0, 39.0, 24.0, 34.0]         27            0  \n",
       "3              [198.12, 215.9, 205.74, 203.2, 200.66]         30            0  \n",
       "4   [99.79024, 117.93392, 95.25432, 100.697424, 10...        157            0  \n",
       "5   [Southeastern Oklahoma State, Florida, Detroit...        316            0  \n",
       "6            [USA, Congo, Nigeria, Lithuania, Canada]         76            0  \n",
       "7                      [1986, 1990, 1979, 1995, 1985]         45            0  \n",
       "8                             [2, 1, 3, Undrafted, 4]          8            0  \n",
       "9                                 [27, 24, 58, 9, 10]         75            0  \n",
       "10                                [55, 15, 9, 64, 27]         85            0  \n",
       "11                          [5.7, 2.3, 0.8, 3.7, 2.4]        308            0  \n",
       "12                         [16.1, 1.5, 1.0, 2.3, 2.4]        154            0  \n",
       "13                          [3.1, 0.3, 0.4, 0.6, 0.2]        114            0  \n",
       "14                    [16.1, 12.3, -2.1, -8.7, -11.2]        707            0  \n",
       "15   [0.18600000000000005, 0.078, 0.105, 0.06, 0.109]        216            0  \n",
       "16  [0.32299999999999995, 0.151, 0.102, 0.149, 0.179]        351            0  \n",
       "17  [0.1, 0.175, 0.10300000000000001, 0.1669999999...        341            0  \n",
       "18   [0.479, 0.43, 0.376, 0.39899999999999997, 0.611]        529            0  \n",
       "19   [0.113, 0.048, 0.14800000000000002, 0.077, 0.04]        479            0  \n",
       "20      [1996-97, 1997-98, 1998-99, 1999-00, 2000-01]         24            0  \n",
       "21                                             [0, 1]          2            0  "
      ]
     },
     "execution_count": 13,
     "metadata": {},
     "output_type": "execute_result"
    }
   ],
   "source": [
    "report(nba)"
   ]
  },
  {
   "cell_type": "markdown",
   "metadata": {},
   "source": [
    "### We need to encode country and college using binary encoders since there are too many unique values\n",
    "\n",
    "### i will drop the columns player_name team_abbreviation draft_year draft_round draft_number season since these are not included in the new_players.csv\n",
    "\n",
    "## I will also be dropping college and country since it has too many unique values which will impact the duration of the modelling\n",
    "\n",
    "### From the information above there are no missing values or null, but columns with 'draft' in its titles contain 'undrafted' as their values but this is not a useful information since we will be dropping these columns anyway \n",
    "\n",
    "\n",
    "\n"
   ]
  },
  {
   "cell_type": "code",
   "execution_count": 14,
   "metadata": {},
   "outputs": [
    {
     "data": {
      "text/plain": [
       "0    10690\n",
       "1      455\n",
       "Name: potential_player, dtype: int64"
      ]
     },
     "execution_count": 14,
     "metadata": {},
     "output_type": "execute_result"
    }
   ],
   "source": [
    "nba['potential_player'].value_counts()"
   ]
  },
  {
   "cell_type": "code",
   "execution_count": 15,
   "metadata": {},
   "outputs": [
    {
     "name": "stderr",
     "output_type": "stream",
     "text": [
      "findfont: Font family ['normal'] not found. Falling back to DejaVu Sans.\n"
     ]
    },
    {
     "data": {
      "image/png": "[encoded data removed]",
      "text/plain": [
       "<Figure size 720x720 with 1 Axes>"
      ]
     },
     "metadata": {},
     "output_type": "display_data"
    }
   ],
   "source": [
    "plt.figure(figsize=(10,10))\n",
    "\n",
    "\n",
    "font = {'family' : 'normal',\n",
    "        'weight' : 'bold',\n",
    "        'size'   : 22}\n",
    "matplotlib.rc('font', **font)\n",
    "\n",
    "\n",
    "plt.pie(nba['potential_player'].value_counts() , labels=[0,1], autopct='%1.1f%%')\n",
    "\n",
    "plt.show()"
   ]
  },
  {
   "cell_type": "markdown",
   "metadata": {},
   "source": [
    "#### This is a highly imbalanced data so resampling is necessary"
   ]
  },
  {
   "cell_type": "markdown",
   "metadata": {},
   "source": []
  },
  {
   "cell_type": "code",
   "execution_count": 16,
   "metadata": {},
   "outputs": [
    {
     "data": {
      "text/plain": [
       "Index(['player_id', 'age', 'player_height', 'player_weight', 'college',\n",
       "       'country', 'gp', 'pts', 'reb', 'ast', 'net_rating', 'oreb_pct',\n",
       "       'dreb_pct', 'usg_pct', 'ts_pct', 'ast_pct'],\n",
       "      dtype='object')"
      ]
     },
     "execution_count": 16,
     "metadata": {},
     "output_type": "execute_result"
    }
   ],
   "source": [
    "new_players = pd.read_csv('new_players.csv')\n",
    "new_players.set_index('Unnamed: 0').columns"
   ]
  },
  {
   "cell_type": "code",
   "execution_count": 17,
   "metadata": {},
   "outputs": [
    {
     "data": {
      "text/plain": [
       "Index(['player_name', 'team_abbreviation', 'age', 'player_height',\n",
       "       'player_weight', 'college', 'country', 'draft_year', 'draft_round',\n",
       "       'draft_number', 'gp', 'pts', 'reb', 'ast', 'net_rating', 'oreb_pct',\n",
       "       'dreb_pct', 'usg_pct', 'ts_pct', 'ast_pct', 'season',\n",
       "       'potential_player'],\n",
       "      dtype='object')"
      ]
     },
     "execution_count": 17,
     "metadata": {},
     "output_type": "execute_result"
    }
   ],
   "source": [
    "nba.columns"
   ]
  },
  {
   "cell_type": "markdown",
   "metadata": {},
   "source": [
    "## __2. EDA__"
   ]
  },
  {
   "cell_type": "code",
   "execution_count": 18,
   "metadata": {},
   "outputs": [
    {
     "data": {
      "text/html": [
       "<div>\n",
       "<style scoped>\n",
       "    .dataframe tbody tr th:only-of-type {\n",
       "        vertical-align: middle;\n",
       "    }\n",
       "\n",
       "    .dataframe tbody tr th {\n",
       "        vertical-align: top;\n",
       "    }\n",
       "\n",
       "    .dataframe thead th {\n",
       "        text-align: right;\n",
       "    }\n",
       "</style>\n",
       "<table border=\"1\" class=\"dataframe\">\n",
       "  <thead>\n",
       "    <tr style=\"text-align: right;\">\n",
       "      <th></th>\n",
       "      <th>Column</th>\n",
       "      <th>d_type</th>\n",
       "      <th>unique_sample</th>\n",
       "      <th>n_uniques</th>\n",
       "      <th>null_values</th>\n",
       "    </tr>\n",
       "  </thead>\n",
       "  <tbody>\n",
       "    <tr>\n",
       "      <th>0</th>\n",
       "      <td>player_name</td>\n",
       "      <td>object</td>\n",
       "      <td>[Dennis Rodman, Dwayne Schintzius, Earl Cureto...</td>\n",
       "      <td>2235</td>\n",
       "      <td>0</td>\n",
       "    </tr>\n",
       "    <tr>\n",
       "      <th>1</th>\n",
       "      <td>team_abbreviation</td>\n",
       "      <td>object</td>\n",
       "      <td>[CHI, LAC, TOR, DAL, MIA]</td>\n",
       "      <td>36</td>\n",
       "      <td>0</td>\n",
       "    </tr>\n",
       "    <tr>\n",
       "      <th>2</th>\n",
       "      <td>age</td>\n",
       "      <td>float64</td>\n",
       "      <td>[36.0, 28.0, 39.0, 24.0, 34.0]</td>\n",
       "      <td>27</td>\n",
       "      <td>0</td>\n",
       "    </tr>\n",
       "    <tr>\n",
       "      <th>3</th>\n",
       "      <td>player_height</td>\n",
       "      <td>float64</td>\n",
       "      <td>[198.12, 215.9, 205.74, 203.2, 200.66]</td>\n",
       "      <td>30</td>\n",
       "      <td>0</td>\n",
       "    </tr>\n",
       "    <tr>\n",
       "      <th>4</th>\n",
       "      <td>player_weight</td>\n",
       "      <td>float64</td>\n",
       "      <td>[99.79024, 117.93392, 95.25432, 100.697424, 10...</td>\n",
       "      <td>157</td>\n",
       "      <td>0</td>\n",
       "    </tr>\n",
       "    <tr>\n",
       "      <th>5</th>\n",
       "      <td>college</td>\n",
       "      <td>object</td>\n",
       "      <td>[Southeastern Oklahoma State, Florida, Detroit...</td>\n",
       "      <td>316</td>\n",
       "      <td>0</td>\n",
       "    </tr>\n",
       "    <tr>\n",
       "      <th>6</th>\n",
       "      <td>country</td>\n",
       "      <td>object</td>\n",
       "      <td>[USA, Congo, Nigeria, Lithuania, Canada]</td>\n",
       "      <td>76</td>\n",
       "      <td>0</td>\n",
       "    </tr>\n",
       "    <tr>\n",
       "      <th>7</th>\n",
       "      <td>draft_year</td>\n",
       "      <td>object</td>\n",
       "      <td>[1986, 1990, 1979, 1995, 1985]</td>\n",
       "      <td>45</td>\n",
       "      <td>0</td>\n",
       "    </tr>\n",
       "    <tr>\n",
       "      <th>8</th>\n",
       "      <td>draft_round</td>\n",
       "      <td>object</td>\n",
       "      <td>[2, 1, 3, Undrafted, 4]</td>\n",
       "      <td>8</td>\n",
       "      <td>0</td>\n",
       "    </tr>\n",
       "    <tr>\n",
       "      <th>9</th>\n",
       "      <td>draft_number</td>\n",
       "      <td>object</td>\n",
       "      <td>[27, 24, 58, 9, 10]</td>\n",
       "      <td>75</td>\n",
       "      <td>0</td>\n",
       "    </tr>\n",
       "    <tr>\n",
       "      <th>10</th>\n",
       "      <td>gp</td>\n",
       "      <td>int64</td>\n",
       "      <td>[55, 15, 9, 64, 27]</td>\n",
       "      <td>85</td>\n",
       "      <td>0</td>\n",
       "    </tr>\n",
       "    <tr>\n",
       "      <th>11</th>\n",
       "      <td>pts</td>\n",
       "      <td>float64</td>\n",
       "      <td>[5.7, 2.3, 0.8, 3.7, 2.4]</td>\n",
       "      <td>308</td>\n",
       "      <td>0</td>\n",
       "    </tr>\n",
       "    <tr>\n",
       "      <th>12</th>\n",
       "      <td>reb</td>\n",
       "      <td>float64</td>\n",
       "      <td>[16.1, 1.5, 1.0, 2.3, 2.4]</td>\n",
       "      <td>154</td>\n",
       "      <td>0</td>\n",
       "    </tr>\n",
       "    <tr>\n",
       "      <th>13</th>\n",
       "      <td>ast</td>\n",
       "      <td>float64</td>\n",
       "      <td>[3.1, 0.3, 0.4, 0.6, 0.2]</td>\n",
       "      <td>114</td>\n",
       "      <td>0</td>\n",
       "    </tr>\n",
       "    <tr>\n",
       "      <th>14</th>\n",
       "      <td>net_rating</td>\n",
       "      <td>float64</td>\n",
       "      <td>[16.1, 12.3, -2.1, -8.7, -11.2]</td>\n",
       "      <td>707</td>\n",
       "      <td>0</td>\n",
       "    </tr>\n",
       "    <tr>\n",
       "      <th>15</th>\n",
       "      <td>oreb_pct</td>\n",
       "      <td>float64</td>\n",
       "      <td>[0.18600000000000005, 0.078, 0.105, 0.06, 0.109]</td>\n",
       "      <td>216</td>\n",
       "      <td>0</td>\n",
       "    </tr>\n",
       "    <tr>\n",
       "      <th>16</th>\n",
       "      <td>dreb_pct</td>\n",
       "      <td>float64</td>\n",
       "      <td>[0.32299999999999995, 0.151, 0.102, 0.149, 0.179]</td>\n",
       "      <td>351</td>\n",
       "      <td>0</td>\n",
       "    </tr>\n",
       "    <tr>\n",
       "      <th>17</th>\n",
       "      <td>usg_pct</td>\n",
       "      <td>float64</td>\n",
       "      <td>[0.1, 0.175, 0.10300000000000001, 0.1669999999...</td>\n",
       "      <td>341</td>\n",
       "      <td>0</td>\n",
       "    </tr>\n",
       "    <tr>\n",
       "      <th>18</th>\n",
       "      <td>ts_pct</td>\n",
       "      <td>float64</td>\n",
       "      <td>[0.479, 0.43, 0.376, 0.39899999999999997, 0.611]</td>\n",
       "      <td>529</td>\n",
       "      <td>0</td>\n",
       "    </tr>\n",
       "    <tr>\n",
       "      <th>19</th>\n",
       "      <td>ast_pct</td>\n",
       "      <td>float64</td>\n",
       "      <td>[0.113, 0.048, 0.14800000000000002, 0.077, 0.04]</td>\n",
       "      <td>479</td>\n",
       "      <td>0</td>\n",
       "    </tr>\n",
       "    <tr>\n",
       "      <th>20</th>\n",
       "      <td>season</td>\n",
       "      <td>object</td>\n",
       "      <td>[1996-97, 1997-98, 1998-99, 1999-00, 2000-01]</td>\n",
       "      <td>24</td>\n",
       "      <td>0</td>\n",
       "    </tr>\n",
       "    <tr>\n",
       "      <th>21</th>\n",
       "      <td>potential_player</td>\n",
       "      <td>int64</td>\n",
       "      <td>[0, 1]</td>\n",
       "      <td>2</td>\n",
       "      <td>0</td>\n",
       "    </tr>\n",
       "  </tbody>\n",
       "</table>\n",
       "</div>"
      ],
      "text/plain": [
       "               Column   d_type  \\\n",
       "0         player_name   object   \n",
       "1   team_abbreviation   object   \n",
       "2                 age  float64   \n",
       "3       player_height  float64   \n",
       "4       player_weight  float64   \n",
       "5             college   object   \n",
       "6             country   object   \n",
       "7          draft_year   object   \n",
       "8         draft_round   object   \n",
       "9        draft_number   object   \n",
       "10                 gp    int64   \n",
       "11                pts  float64   \n",
       "12                reb  float64   \n",
       "13                ast  float64   \n",
       "14         net_rating  float64   \n",
       "15           oreb_pct  float64   \n",
       "16           dreb_pct  float64   \n",
       "17            usg_pct  float64   \n",
       "18             ts_pct  float64   \n",
       "19            ast_pct  float64   \n",
       "20             season   object   \n",
       "21   potential_player    int64   \n",
       "\n",
       "                                        unique_sample  n_uniques  null_values  \n",
       "0   [Dennis Rodman, Dwayne Schintzius, Earl Cureto...       2235            0  \n",
       "1                           [CHI, LAC, TOR, DAL, MIA]         36            0  \n",
       "2                      [36.0, 28.0, 39.0, 24.0, 34.0]         27            0  \n",
       "3              [198.12, 215.9, 205.74, 203.2, 200.66]         30            0  \n",
       "4   [99.79024, 117.93392, 95.25432, 100.697424, 10...        157            0  \n",
       "5   [Southeastern Oklahoma State, Florida, Detroit...        316            0  \n",
       "6            [USA, Congo, Nigeria, Lithuania, Canada]         76            0  \n",
       "7                      [1986, 1990, 1979, 1995, 1985]         45            0  \n",
       "8                             [2, 1, 3, Undrafted, 4]          8            0  \n",
       "9                                 [27, 24, 58, 9, 10]         75            0  \n",
       "10                                [55, 15, 9, 64, 27]         85            0  \n",
       "11                          [5.7, 2.3, 0.8, 3.7, 2.4]        308            0  \n",
       "12                         [16.1, 1.5, 1.0, 2.3, 2.4]        154            0  \n",
       "13                          [3.1, 0.3, 0.4, 0.6, 0.2]        114            0  \n",
       "14                    [16.1, 12.3, -2.1, -8.7, -11.2]        707            0  \n",
       "15   [0.18600000000000005, 0.078, 0.105, 0.06, 0.109]        216            0  \n",
       "16  [0.32299999999999995, 0.151, 0.102, 0.149, 0.179]        351            0  \n",
       "17  [0.1, 0.175, 0.10300000000000001, 0.1669999999...        341            0  \n",
       "18   [0.479, 0.43, 0.376, 0.39899999999999997, 0.611]        529            0  \n",
       "19   [0.113, 0.048, 0.14800000000000002, 0.077, 0.04]        479            0  \n",
       "20      [1996-97, 1997-98, 1998-99, 1999-00, 2000-01]         24            0  \n",
       "21                                             [0, 1]          2            0  "
      ]
     },
     "execution_count": 18,
     "metadata": {},
     "output_type": "execute_result"
    }
   ],
   "source": [
    "report(nba)"
   ]
  },
  {
   "cell_type": "code",
   "execution_count": 19,
   "metadata": {},
   "outputs": [
    {
     "data": {
      "text/plain": [
       "<AxesSubplot:>"
      ]
     },
     "execution_count": 19,
     "metadata": {},
     "output_type": "execute_result"
    },
    {
     "data": {
      "image/png": "[encoded data removed]",
      "text/plain": [
       "<Figure size 792x648 with 2 Axes>"
      ]
     },
     "metadata": {},
     "output_type": "display_data"
    }
   ],
   "source": [
    "sns.set_theme(style=\"white\")\n",
    "\n",
    "\n",
    "# Compute the correlation matrix\n",
    "corr = nba.drop('potential_player',axis=1).corr()\n",
    "\n",
    "# Generate a mask for the upper triangle\n",
    "mask = np.triu(np.ones_like(corr, dtype=bool))\n",
    "\n",
    "# Set up the matplotlib figure\n",
    "f, ax = plt.subplots(figsize=(11, 9))\n",
    "\n",
    "# Generate a custom diverging colormap\n",
    "cmap = sns.diverging_palette(230, 20, as_cmap=True)\n",
    "\n",
    "# Draw the heatmap with the mask and correct aspect ratio\n",
    "sns.heatmap(corr, mask=mask, cmap=cmap, vmax=.3, center=0,\n",
    "            square=True, linewidths=.5, cbar_kws={\"shrink\": .5})"
   ]
  },
  {
   "cell_type": "markdown",
   "metadata": {},
   "source": [
    "## This shows that height and weight are highly correlated with rebound performances (tall people rebound better), yet the taller you are the worse you get at assisting , as you can see that height and weight are negatively correlated with ast scores."
   ]
  },
  {
   "cell_type": "code",
   "execution_count": 20,
   "metadata": {},
   "outputs": [
    {
     "name": "stderr",
     "output_type": "stream",
     "text": [
      "C:\\Users\\Fachri Ardiansyah\\anaconda3\\lib\\site-packages\\seaborn\\_decorators.py:36: FutureWarning: Pass the following variables as keyword args: x, y. From version 0.12, the only valid positional argument will be `data`, and passing other arguments without an explicit keyword will result in an error or misinterpretation.\n",
      "  warnings.warn(\n",
      "C:\\Users\\Fachri Ardiansyah\\anaconda3\\lib\\site-packages\\seaborn\\_decorators.py:36: FutureWarning: Pass the following variables as keyword args: x, y. From version 0.12, the only valid positional argument will be `data`, and passing other arguments without an explicit keyword will result in an error or misinterpretation.\n",
      "  warnings.warn(\n"
     ]
    },
    {
     "data": {
      "image/png": "[encoded data removed]",
      "text/plain": [
       "<Figure size 1152x576 with 2 Axes>"
      ]
     },
     "metadata": {},
     "output_type": "display_data"
    }
   ],
   "source": [
    "byYear_height = nba.groupby(\"season\").mean()[\"player_height\"]\n",
    "byYear_weight = nba.groupby(\"season\").mean()[\"player_weight\"]\n",
    "\n",
    "season_list = []\n",
    "for i in range(1996,2020,1):\n",
    "    season_list.append(i)\n",
    "\n",
    "fig, ax = plt.subplots(1,2,figsize=(16, 8))\n",
    "plt.subplots_adjust(wspace=0.05)\n",
    "\n",
    "sns.lineplot(season_list,byYear_height.values, ax=ax[0], label='Height')\n",
    "sns.lineplot(season_list,byYear_weight.values, ax=ax[1], label='Weight')\n",
    "\n",
    "# Add lines for different eras\n",
    "ax[0].axvline(2000, color='#FF7F50')\n",
    "ax[0].axvline(2010, color='#FF7F50')\n",
    "\n",
    "ax[1].axvline(2000, color='#FF7F50')\n",
    "ax[1].axvline(2010, color='#FF7F50')\n",
    "\n",
    "\n",
    "ax[0].yaxis.set_label_text('Height [cm]')\n",
    "ax[1].yaxis.set_label_text('Weight [kg]')\n",
    "ax[0].xaxis.set_label_text('Season')\n",
    "ax[1].xaxis.set_label_text('Season')\n",
    "plt.suptitle(\"NBA Players' Build\", fontsize=16)\n",
    "plt.legend(loc='upper right', bbox_to_anchor=(1.2, 1), frameon=False)\n",
    "sns.despine(ax=ax[1], left=True)\n",
    "sns.despine(ax=ax[0])\n",
    "\n",
    "plt.show()"
   ]
  },
  {
   "cell_type": "markdown",
   "metadata": {},
   "source": [
    "## This shows that these days player are getting more athletic since the weight are decreasing, gradual decrease of height also implies that teams are smartly utilizing shorter players for different tyes of positions"
   ]
  },
  {
   "cell_type": "code",
   "execution_count": 21,
   "metadata": {},
   "outputs": [],
   "source": [
    "a = nba['country'].value_counts()"
   ]
  },
  {
   "cell_type": "code",
   "execution_count": 22,
   "metadata": {},
   "outputs": [
    {
     "data": {
      "text/plain": [
       "Index(['USA', 'France', 'Canada', 'Spain', 'Brazil', 'Australia', 'Slovenia',\n",
       "       'Turkey', 'Croatia', 'Argentina', 'Lithuania', 'Serbia', 'Germany',\n",
       "       'Ukraine', 'Russia', 'Italy', 'Senegal', 'Serbia and Montenegro',\n",
       "       'Democratic Republic of the Congo', 'Montenegro', 'Puerto Rico',\n",
       "       'Dominican Republic', 'Georgia', 'Nigeria', 'Greece', 'Latvia',\n",
       "       'Switzerland', 'Cameroon', 'Netherlands', 'US Virgin Islands',\n",
       "       'United Kingdom', 'New Zealand', 'Mexico', 'China', 'Poland', 'Haiti',\n",
       "       'Congo', 'Sweden', 'U.S. Virgin Islands', 'Israel', 'Jamaica',\n",
       "       'St. Vincent & Grenadines', 'Czech Republic', 'Yugoslavia', 'Venezuela',\n",
       "       'England', 'Belize', 'Bosnia', 'Bahamas', 'Mali', 'Finland',\n",
       "       'Bosnia and Herzegovina', 'Tanzania', 'South Sudan', 'Iran', 'Austria',\n",
       "       'Tunisia', 'Japan', 'Egypt', 'Ireland', 'Great Britain',\n",
       "       'Bosnia & Herzegovina', 'Panama', 'Scotland', 'Macedonia', 'Gabon',\n",
       "       'Cabo Verde', 'South Korea', 'Uruguay', 'USSR', 'Guinea', 'Sudan (UK)',\n",
       "       'Sudan', 'Trinidad and Tobago', 'Angola', 'Ghana'],\n",
       "      dtype='object')"
      ]
     },
     "execution_count": 22,
     "metadata": {},
     "output_type": "execute_result"
    }
   ],
   "source": [
    "a.index\n"
   ]
  },
  {
   "cell_type": "code",
   "execution_count": 23,
   "metadata": {},
   "outputs": [
    {
     "data": {
      "image/png": "[encoded data removed]",
      "text/plain": [
       "<Figure size 720x720 with 1 Axes>"
      ]
     },
     "metadata": {},
     "output_type": "display_data"
    }
   ],
   "source": [
    "plt.figure(figsize=(10,10))\n",
    "plt.pie(nba['country'].value_counts()[:5], labels=['USA', 'France', 'Canada', 'Spain', 'Spain'], autopct='%1.1f%%')\n",
    "plt.show()"
   ]
  },
  {
   "cell_type": "markdown",
   "metadata": {},
   "source": [
    "# This shows that NBA players are still mainly from usa"
   ]
  },
  {
   "cell_type": "code",
   "execution_count": 24,
   "metadata": {},
   "outputs": [
    {
     "data": {
      "image/png": "[encoded data removed]",
      "text/plain": [
       "<Figure size 432x288 with 1 Axes>"
      ]
     },
     "metadata": {},
     "output_type": "display_data"
    }
   ],
   "source": [
    "sns.boxplot(x='potential_player',y='pts',data=nba)\n",
    "plt.show()"
   ]
  },
  {
   "cell_type": "markdown",
   "metadata": {},
   "source": [
    "# This shows that potential players usually score points higher than those who are not"
   ]
  },
  {
   "cell_type": "code",
   "execution_count": 25,
   "metadata": {},
   "outputs": [
    {
     "data": {
      "image/png": "[encoded data removed]",
      "text/plain": [
       "<Figure size 432x288 with 1 Axes>"
      ]
     },
     "metadata": {},
     "output_type": "display_data"
    }
   ],
   "source": [
    "sns.boxplot(x='potential_player',y='reb',data=nba)\n",
    "plt.show()"
   ]
  },
  {
   "cell_type": "markdown",
   "metadata": {},
   "source": [
    "# This shows that potential players usually rebounds more often than those who are not"
   ]
  },
  {
   "cell_type": "code",
   "execution_count": 26,
   "metadata": {},
   "outputs": [
    {
     "data": {
      "image/png": "[encoded data removed]",
      "text/plain": [
       "<Figure size 432x288 with 1 Axes>"
      ]
     },
     "metadata": {},
     "output_type": "display_data"
    }
   ],
   "source": [
    "sns.boxplot(x='potential_player',y='ast',data=nba)\n",
    "plt.show()"
   ]
  },
  {
   "cell_type": "markdown",
   "metadata": {},
   "source": [
    "# This also shows that potential players are better assists"
   ]
  },
  {
   "cell_type": "markdown",
   "metadata": {},
   "source": []
  },
  {
   "cell_type": "markdown",
   "metadata": {},
   "source": [
    "# __3. Data Splitting__"
   ]
  },
  {
   "cell_type": "code",
   "execution_count": 33,
   "metadata": {},
   "outputs": [],
   "source": [
    "nba_model = nba.drop(['player_name', 'team_abbreviation', 'draft_year',  'draft_round', 'draft_number', 'season', 'college', 'country'], axis=1)\n",
    "X = nba_model.drop(columns='potential_player')\n",
    "y = nba_model['potential_player']\n",
    "\n",
    "X_train_val, X_test, y_train_val, y_test = train_test_split(X,y,test_size=.2, stratify=y, random_state=2020)"
   ]
  },
  {
   "cell_type": "markdown",
   "metadata": {},
   "source": [
    "## remember that 'age', 'player_height', 'player_weight','gp', 'pts', 'reb','ast', 'oreb_pct', 'dreb_pct', 'usg_pct', 'ts_pct', 'ast_pct' are highly correlated according to its vif score so we will be using pca\n"
   ]
  },
  {
   "cell_type": "markdown",
   "metadata": {},
   "source": [
    "## __4. Benchmark Models__\n",
    "we will be using decision tree and random forest"
   ]
  },
  {
   "cell_type": "code",
   "execution_count": 34,
   "metadata": {},
   "outputs": [],
   "source": [
    "\n",
    "dtc = DecisionTreeClassifier(max_depth=3)\n",
    "rfc = RandomForestClassifier(max_depth=3)"
   ]
  },
  {
   "cell_type": "code",
   "execution_count": 35,
   "metadata": {},
   "outputs": [],
   "source": [
    "smote= SMOTE()"
   ]
  },
  {
   "cell_type": "markdown",
   "metadata": {},
   "source": [
    "diperlukan smote karena data imbalanced"
   ]
  },
  {
   "cell_type": "markdown",
   "metadata": {},
   "source": [
    "## __Pipeline__"
   ]
  },
  {
   "cell_type": "code",
   "execution_count": 55,
   "metadata": {},
   "outputs": [],
   "source": [
    "\n",
    "dtc_pipe = Pipeline([\n",
    "    ('rfe', RFE(dtc)),\n",
    "    ('resampling', smote),\n",
    "    ('dtc', dtc)\n",
    "])\n",
    "\n",
    "#  Random Forest\n",
    "rfc_pipe = Pipeline([\n",
    "    ('rfe', RFE(rfc)),\n",
    "    ('resampling', smote),\n",
    "    ('rfc', rfc)\n",
    "])"
   ]
  },
  {
   "cell_type": "code",
   "execution_count": 47,
   "metadata": {},
   "outputs": [
    {
     "name": "stderr",
     "output_type": "stream",
     "text": [
      "[Parallel(n_jobs=-1)]: Using backend LokyBackend with 8 concurrent workers.\n",
      "[Parallel(n_jobs=-1)]: Done  34 tasks      | elapsed:  1.5min\n",
      "[Parallel(n_jobs=-1)]: Done  50 out of  50 | elapsed:  1.9min finished\n",
      "[Parallel(n_jobs=-1)]: Using backend LokyBackend with 8 concurrent workers.\n",
      "[Parallel(n_jobs=-1)]: Done  34 tasks      | elapsed:    2.2s\n",
      "[Parallel(n_jobs=-1)]: Done  50 out of  50 | elapsed:    3.2s finished\n"
     ]
    }
   ],
   "source": [
    "rskf = RepeatedStratifiedKFold(n_splits=5, random_state=2020)\n",
    "\n",
    "rfc_score = cross_val_score(rfc_pipe, X_train_val, y_train_val, scoring='precision', cv=rskf, n_jobs=-1, verbose=1)\n",
    "dtc_score = cross_val_score(dtc_pipe, X_train_val, y_train_val, scoring='precision', cv=rskf, n_jobs=-1, verbose=1)\n",
    "\n"
   ]
  },
  {
   "cell_type": "markdown",
   "metadata": {},
   "source": [
    "## We will be using precision as metric because of the financial crisis the club is currently experiencing so we want false positives in the model as few as possible, therefore we need a high precision score"
   ]
  },
  {
   "cell_type": "code",
   "execution_count": 48,
   "metadata": {},
   "outputs": [
    {
     "name": "stdout",
     "output_type": "stream",
     "text": [
      "Random forest Score is 0.9670894219448671\n",
      "Decision Tree Score is 0.8316576021420221\n"
     ]
    }
   ],
   "source": [
    "print('Random forest Score is' , rfc_score.mean())\n",
    "print('Decision Tree Score is', dtc_score.mean())"
   ]
  },
  {
   "cell_type": "markdown",
   "metadata": {},
   "source": [
    "## in this case Random Forest Classifier has greater precision score so we will be using random forest classifier"
   ]
  },
  {
   "cell_type": "markdown",
   "metadata": {},
   "source": [
    "# __5.Model Improvement__"
   ]
  },
  {
   "cell_type": "markdown",
   "metadata": {},
   "source": [
    "## RFC Tuning"
   ]
  },
  {
   "cell_type": "code",
   "execution_count": 49,
   "metadata": {},
   "outputs": [
    {
     "data": {
      "text/plain": [
       "{'memory': None,\n",
       " 'steps': [('rfe', RFE(estimator=RandomForestClassifier(max_depth=3))),\n",
       "  ('resampling', SMOTE()),\n",
       "  ('rfc', RandomForestClassifier(max_depth=3))],\n",
       " 'verbose': False,\n",
       " 'rfe': RFE(estimator=RandomForestClassifier(max_depth=3)),\n",
       " 'resampling': SMOTE(),\n",
       " 'rfc': RandomForestClassifier(max_depth=3),\n",
       " 'rfe__estimator__bootstrap': True,\n",
       " 'rfe__estimator__ccp_alpha': 0.0,\n",
       " 'rfe__estimator__class_weight': None,\n",
       " 'rfe__estimator__criterion': 'gini',\n",
       " 'rfe__estimator__max_depth': 3,\n",
       " 'rfe__estimator__max_features': 'auto',\n",
       " 'rfe__estimator__max_leaf_nodes': None,\n",
       " 'rfe__estimator__max_samples': None,\n",
       " 'rfe__estimator__min_impurity_decrease': 0.0,\n",
       " 'rfe__estimator__min_impurity_split': None,\n",
       " 'rfe__estimator__min_samples_leaf': 1,\n",
       " 'rfe__estimator__min_samples_split': 2,\n",
       " 'rfe__estimator__min_weight_fraction_leaf': 0.0,\n",
       " 'rfe__estimator__n_estimators': 100,\n",
       " 'rfe__estimator__n_jobs': None,\n",
       " 'rfe__estimator__oob_score': False,\n",
       " 'rfe__estimator__random_state': None,\n",
       " 'rfe__estimator__verbose': 0,\n",
       " 'rfe__estimator__warm_start': False,\n",
       " 'rfe__estimator': RandomForestClassifier(max_depth=3),\n",
       " 'rfe__n_features_to_select': None,\n",
       " 'rfe__step': 1,\n",
       " 'rfe__verbose': 0,\n",
       " 'resampling__k_neighbors': 5,\n",
       " 'resampling__n_jobs': None,\n",
       " 'resampling__random_state': None,\n",
       " 'resampling__sampling_strategy': 'auto',\n",
       " 'rfc__bootstrap': True,\n",
       " 'rfc__ccp_alpha': 0.0,\n",
       " 'rfc__class_weight': None,\n",
       " 'rfc__criterion': 'gini',\n",
       " 'rfc__max_depth': 3,\n",
       " 'rfc__max_features': 'auto',\n",
       " 'rfc__max_leaf_nodes': None,\n",
       " 'rfc__max_samples': None,\n",
       " 'rfc__min_impurity_decrease': 0.0,\n",
       " 'rfc__min_impurity_split': None,\n",
       " 'rfc__min_samples_leaf': 1,\n",
       " 'rfc__min_samples_split': 2,\n",
       " 'rfc__min_weight_fraction_leaf': 0.0,\n",
       " 'rfc__n_estimators': 100,\n",
       " 'rfc__n_jobs': None,\n",
       " 'rfc__oob_score': False,\n",
       " 'rfc__random_state': None,\n",
       " 'rfc__verbose': 0,\n",
       " 'rfc__warm_start': False}"
      ]
     },
     "execution_count": 49,
     "metadata": {},
     "output_type": "execute_result"
    }
   ],
   "source": [
    "rfc_pipe.get_params()"
   ]
  },
  {
   "cell_type": "code",
   "execution_count": 57,
   "metadata": {},
   "outputs": [],
   "source": [
    "rfc_params = {\n",
    "    'rfc__max_depth': np.arange(10,16),\n",
    "    'rfc__min_samples_split': np.arange(7,10)\n",
    "}\n"
   ]
  },
  {
   "cell_type": "code",
   "execution_count": 69,
   "metadata": {},
   "outputs": [
    {
     "name": "stdout",
     "output_type": "stream",
     "text": [
      "Fitting 5 folds for each of 18 candidates, totalling 90 fits\n"
     ]
    },
    {
     "name": "stderr",
     "output_type": "stream",
     "text": [
      "[Parallel(n_jobs=-1)]: Using backend LokyBackend with 8 concurrent workers.\n",
      "[Parallel(n_jobs=-1)]: Done  34 tasks      | elapsed:  1.6min\n",
      "[Parallel(n_jobs=-1)]: Done  90 out of  90 | elapsed:  3.9min finished\n"
     ]
    },
    {
     "data": {
      "text/plain": [
       "GridSearchCV(cv=StratifiedKFold(n_splits=5, random_state=1, shuffle=True),\n",
       "             estimator=Pipeline(steps=[('rfe',\n",
       "                                        RFE(estimator=RandomForestClassifier(max_depth=3))),\n",
       "                                       ('resampling', SMOTE()),\n",
       "                                       ('rfc',\n",
       "                                        RandomForestClassifier(max_depth=3))]),\n",
       "             n_jobs=-1,\n",
       "             param_grid={'rfc__max_depth': array([10, 11, 12, 13, 14, 15]),\n",
       "                         'rfc__min_samples_split': array([7, 8, 9])},\n",
       "             scoring='precision', verbose=1)"
      ]
     },
     "execution_count": 69,
     "metadata": {},
     "output_type": "execute_result"
    }
   ],
   "source": [
    "skf = StratifiedKFold(n_splits=5, shuffle=True, random_state=1)\n",
    "rfc_grid = GridSearchCV(rfc_pipe, param_grid=rfc_params, scoring='precision', cv=skf, verbose=1, n_jobs=-1)\n",
    "rfc_grid.fit(X_train_val, y_train_val)\n"
   ]
  },
  {
   "cell_type": "code",
   "execution_count": 70,
   "metadata": {},
   "outputs": [
    {
     "name": "stderr",
     "output_type": "stream",
     "text": [
      "[Parallel(n_jobs=-1)]: Using backend LokyBackend with 8 concurrent workers.\n",
      "[Parallel(n_jobs=-1)]: Done  34 tasks      | elapsed:  2.0min\n",
      "[Parallel(n_jobs=-1)]: Done  50 out of  50 | elapsed:  2.7min finished\n"
     ]
    },
    {
     "data": {
      "text/plain": [
       "array([0.96052632, 0.97297297, 1.        , 0.98611111, 0.98648649,\n",
       "       0.97297297, 0.98630137, 0.97333333, 0.98648649, 0.98630137,\n",
       "       0.96052632, 0.95945946, 0.98611111, 1.        , 1.        ,\n",
       "       0.96052632, 1.        , 0.98630137, 0.97333333, 0.98648649,\n",
       "       0.98648649, 0.97297297, 0.97333333, 0.98611111, 0.98648649,\n",
       "       0.98630137, 0.97183099, 0.98648649, 0.96052632, 1.        ,\n",
       "       1.        , 0.94736842, 0.98630137, 0.98630137, 0.98630137,\n",
       "       0.97297297, 0.97297297, 0.98648649, 0.98648649, 0.98611111,\n",
       "       0.98630137, 0.97297297, 0.97260274, 0.98648649, 0.98648649,\n",
       "       0.98648649, 0.97297297, 0.97333333, 0.98648649, 0.98591549])"
      ]
     },
     "execution_count": 70,
     "metadata": {},
     "output_type": "execute_result"
    }
   ],
   "source": [
    "rfc_tuned = rfc_grid.best_estimator_\n",
    "rfc_tuned_score = cross_val_score(rfc_tuned, X_train_val, y_train_val, scoring='precision', cv=rskf, n_jobs=-1, verbose=1)\n",
    "rfc_tuned_score"
   ]
  },
  {
   "cell_type": "code",
   "execution_count": 122,
   "metadata": {},
   "outputs": [
    {
     "data": {
      "text/plain": [
       "0.9670894219448671"
      ]
     },
     "execution_count": 122,
     "metadata": {},
     "output_type": "execute_result"
    }
   ],
   "source": [
    "rfc_score.mean()"
   ]
  },
  {
   "cell_type": "code",
   "execution_count": 71,
   "metadata": {},
   "outputs": [
    {
     "data": {
      "text/plain": [
       "0.9811223949519956"
      ]
     },
     "execution_count": 71,
     "metadata": {},
     "output_type": "execute_result"
    }
   ],
   "source": [
    "rfc_tuned_score.mean()"
   ]
  },
  {
   "cell_type": "markdown",
   "metadata": {},
   "source": [
    "# terlihat disini bahwa score naik dari 0.96 ke 0.98"
   ]
  },
  {
   "cell_type": "code",
   "execution_count": 132,
   "metadata": {},
   "outputs": [
    {
     "data": {
      "text/plain": [
       "<sklearn.metrics._plot.confusion_matrix.ConfusionMatrixDisplay at 0x2b5234b0430>"
      ]
     },
     "execution_count": 132,
     "metadata": {},
     "output_type": "execute_result"
    },
    {
     "data": {
      "image/png": "[encoded data removed]",
      "text/plain": [
       "<Figure size 432x288 with 2 Axes>"
      ]
     },
     "metadata": {},
     "output_type": "display_data"
    }
   ],
   "source": [
    "rfc.fit(X_train_val, y_train_val)\n",
    "plot_confusion_matrix(rfc, X_test, y_test)"
   ]
  },
  {
   "cell_type": "code",
   "execution_count": 76,
   "metadata": {},
   "outputs": [
    {
     "data": {
      "text/plain": [
       "<sklearn.metrics._plot.confusion_matrix.ConfusionMatrixDisplay at 0x2b5235daa30>"
      ]
     },
     "execution_count": 76,
     "metadata": {},
     "output_type": "execute_result"
    },
    {
     "data": {
      "image/png": "[encoded data removed]",
      "text/plain": [
       "<Figure size 432x288 with 2 Axes>"
      ]
     },
     "metadata": {},
     "output_type": "display_data"
    }
   ],
   "source": [
    "rfc_tuned.fit(X_train_val, y_train_val)\n",
    "plot_confusion_matrix(rfc_tuned, X_test, y_test)"
   ]
  },
  {
   "cell_type": "markdown",
   "metadata": {},
   "source": [
    "ada kenaikan True Positive dari model hasil tuning"
   ]
  },
  {
   "cell_type": "markdown",
   "metadata": {},
   "source": [
    "## DTC TUNING"
   ]
  },
  {
   "cell_type": "code",
   "execution_count": 124,
   "metadata": {},
   "outputs": [
    {
     "data": {
      "text/plain": [
       "{'memory': None,\n",
       " 'steps': [('rfe', RFE(estimator=DecisionTreeClassifier(max_depth=3))),\n",
       "  ('resampling', SMOTE()),\n",
       "  ('dtc', DecisionTreeClassifier(max_depth=3))],\n",
       " 'verbose': False,\n",
       " 'rfe': RFE(estimator=DecisionTreeClassifier(max_depth=3)),\n",
       " 'resampling': SMOTE(),\n",
       " 'dtc': DecisionTreeClassifier(max_depth=3),\n",
       " 'rfe__estimator__ccp_alpha': 0.0,\n",
       " 'rfe__estimator__class_weight': None,\n",
       " 'rfe__estimator__criterion': 'gini',\n",
       " 'rfe__estimator__max_depth': 3,\n",
       " 'rfe__estimator__max_features': None,\n",
       " 'rfe__estimator__max_leaf_nodes': None,\n",
       " 'rfe__estimator__min_impurity_decrease': 0.0,\n",
       " 'rfe__estimator__min_impurity_split': None,\n",
       " 'rfe__estimator__min_samples_leaf': 1,\n",
       " 'rfe__estimator__min_samples_split': 2,\n",
       " 'rfe__estimator__min_weight_fraction_leaf': 0.0,\n",
       " 'rfe__estimator__presort': 'deprecated',\n",
       " 'rfe__estimator__random_state': None,\n",
       " 'rfe__estimator__splitter': 'best',\n",
       " 'rfe__estimator': DecisionTreeClassifier(max_depth=3),\n",
       " 'rfe__n_features_to_select': None,\n",
       " 'rfe__step': 1,\n",
       " 'rfe__verbose': 0,\n",
       " 'resampling__k_neighbors': 5,\n",
       " 'resampling__n_jobs': None,\n",
       " 'resampling__random_state': None,\n",
       " 'resampling__sampling_strategy': 'auto',\n",
       " 'dtc__ccp_alpha': 0.0,\n",
       " 'dtc__class_weight': None,\n",
       " 'dtc__criterion': 'gini',\n",
       " 'dtc__max_depth': 3,\n",
       " 'dtc__max_features': None,\n",
       " 'dtc__max_leaf_nodes': None,\n",
       " 'dtc__min_impurity_decrease': 0.0,\n",
       " 'dtc__min_impurity_split': None,\n",
       " 'dtc__min_samples_leaf': 1,\n",
       " 'dtc__min_samples_split': 2,\n",
       " 'dtc__min_weight_fraction_leaf': 0.0,\n",
       " 'dtc__presort': 'deprecated',\n",
       " 'dtc__random_state': None,\n",
       " 'dtc__splitter': 'best'}"
      ]
     },
     "execution_count": 124,
     "metadata": {},
     "output_type": "execute_result"
    }
   ],
   "source": [
    "dtc_pipe.get_params()"
   ]
  },
  {
   "cell_type": "code",
   "execution_count": 125,
   "metadata": {},
   "outputs": [],
   "source": [
    "dtc_params = {\n",
    "    'dtc__max_depth': np.arange(10,16),\n",
    "    'dtc__min_samples_split': np.arange(7,10)\n",
    "}\n"
   ]
  },
  {
   "cell_type": "code",
   "execution_count": 126,
   "metadata": {},
   "outputs": [
    {
     "name": "stdout",
     "output_type": "stream",
     "text": [
      "Fitting 5 folds for each of 18 candidates, totalling 90 fits\n"
     ]
    },
    {
     "name": "stderr",
     "output_type": "stream",
     "text": [
      "[Parallel(n_jobs=-1)]: Using backend LokyBackend with 8 concurrent workers.\n",
      "[Parallel(n_jobs=-1)]: Done  34 tasks      | elapsed:   16.3s\n",
      "[Parallel(n_jobs=-1)]: Done  90 out of  90 | elapsed:   21.9s finished\n"
     ]
    },
    {
     "data": {
      "text/plain": [
       "GridSearchCV(cv=StratifiedKFold(n_splits=5, random_state=1, shuffle=True),\n",
       "             estimator=Pipeline(steps=[('rfe',\n",
       "                                        RFE(estimator=DecisionTreeClassifier(max_depth=3))),\n",
       "                                       ('resampling', SMOTE()),\n",
       "                                       ('dtc',\n",
       "                                        DecisionTreeClassifier(max_depth=3))]),\n",
       "             n_jobs=-1,\n",
       "             param_grid={'dtc__max_depth': array([10, 11, 12, 13, 14, 15]),\n",
       "                         'dtc__min_samples_split': array([7, 8, 9])},\n",
       "             scoring='precision', verbose=1)"
      ]
     },
     "execution_count": 126,
     "metadata": {},
     "output_type": "execute_result"
    }
   ],
   "source": [
    "skf = StratifiedKFold(n_splits=5, shuffle=True, random_state=1)\n",
    "dtc_grid = GridSearchCV(dtc_pipe, param_grid=dtc_params, scoring='precision', cv=skf, verbose=1, n_jobs=-1)\n",
    "dtc_grid.fit(X_train_val, y_train_val)\n"
   ]
  },
  {
   "cell_type": "code",
   "execution_count": 127,
   "metadata": {},
   "outputs": [
    {
     "name": "stderr",
     "output_type": "stream",
     "text": [
      "[Parallel(n_jobs=-1)]: Using backend LokyBackend with 8 concurrent workers.\n",
      "[Parallel(n_jobs=-1)]: Done  34 tasks      | elapsed:    3.8s\n",
      "[Parallel(n_jobs=-1)]: Done  50 out of  50 | elapsed:    5.5s finished\n"
     ]
    },
    {
     "data": {
      "text/plain": [
       "array([0.95774648, 0.95945946, 0.97297297, 0.98591549, 0.98648649,\n",
       "       0.96      , 0.95774648, 0.94736842, 0.98611111, 0.93506494,\n",
       "       0.97333333, 0.94666667, 0.97222222, 0.98611111, 0.94805195,\n",
       "       0.96      , 1.        , 0.98630137, 0.97333333, 0.93333333,\n",
       "       0.98611111, 0.96      , 0.94202899, 0.94444444, 0.97297297,\n",
       "       0.98571429, 0.97101449, 0.98630137, 0.91025641, 0.97297297,\n",
       "       0.96      , 0.92105263, 0.95890411, 1.        , 0.97297297,\n",
       "       0.97260274, 0.97297297, 0.95890411, 1.        , 0.95890411,\n",
       "       0.98591549, 0.97297297, 0.98571429, 0.97333333, 0.97333333,\n",
       "       0.97183099, 0.96      , 0.97260274, 0.95890411, 0.95833333])"
      ]
     },
     "execution_count": 127,
     "metadata": {},
     "output_type": "execute_result"
    }
   ],
   "source": [
    "dtc_tuned = dtc_grid.best_estimator_\n",
    "dtc_tuned_score = cross_val_score(dtc_tuned, X_train_val, y_train_val, scoring='precision', cv=rskf, n_jobs=-1, verbose=1)\n",
    "dtc_tuned_score"
   ]
  },
  {
   "cell_type": "code",
   "execution_count": 128,
   "metadata": {},
   "outputs": [
    {
     "data": {
      "text/plain": [
       "0.8316576021420221"
      ]
     },
     "execution_count": 128,
     "metadata": {},
     "output_type": "execute_result"
    }
   ],
   "source": [
    "dtc_score.mean()"
   ]
  },
  {
   "cell_type": "code",
   "execution_count": 129,
   "metadata": {},
   "outputs": [
    {
     "data": {
      "text/plain": [
       "0.9669859286651296"
      ]
     },
     "execution_count": 129,
     "metadata": {},
     "output_type": "execute_result"
    }
   ],
   "source": [
    "dtc_tuned_score.mean()"
   ]
  },
  {
   "cell_type": "markdown",
   "metadata": {},
   "source": [
    "# terlihat disini bahwa score naik dari 0.831 ke 0.96"
   ]
  },
  {
   "cell_type": "code",
   "execution_count": 131,
   "metadata": {},
   "outputs": [
    {
     "data": {
      "text/plain": [
       "<sklearn.metrics._plot.confusion_matrix.ConfusionMatrixDisplay at 0x2b520cf7370>"
      ]
     },
     "execution_count": 131,
     "metadata": {},
     "output_type": "execute_result"
    },
    {
     "data": {
      "image/png": "[encoded data removed]",
      "text/plain": [
       "<Figure size 432x288 with 2 Axes>"
      ]
     },
     "metadata": {},
     "output_type": "display_data"
    }
   ],
   "source": [
    "dtc.fit(X_train_val,y_train_val)\n",
    "plot_confusion_matrix(dtc, X_test, y_test)"
   ]
  },
  {
   "cell_type": "code",
   "execution_count": 130,
   "metadata": {},
   "outputs": [
    {
     "data": {
      "text/plain": [
       "<sklearn.metrics._plot.confusion_matrix.ConfusionMatrixDisplay at 0x2b520c69250>"
      ]
     },
     "execution_count": 130,
     "metadata": {},
     "output_type": "execute_result"
    },
    {
     "data": {
      "image/png": "[encoded data removed]",
      "text/plain": [
       "<Figure size 432x288 with 2 Axes>"
      ]
     },
     "metadata": {},
     "output_type": "display_data"
    }
   ],
   "source": [
    "dtc_tuned.fit(X_train_val, y_train_val)\n",
    "plot_confusion_matrix(dtc_tuned, X_test, y_test)"
   ]
  },
  {
   "cell_type": "markdown",
   "metadata": {},
   "source": [
    "Tuning menyebabkan turunnya FP yang berarti naiknya recall"
   ]
  },
  {
   "cell_type": "markdown",
   "metadata": {},
   "source": [
    "## 6. __Predict New Players__"
   ]
  },
  {
   "cell_type": "markdown",
   "metadata": {},
   "source": [
    "# Model Terbaik adalah rfc_tuned"
   ]
  },
  {
   "cell_type": "code",
   "execution_count": 94,
   "metadata": {},
   "outputs": [
    {
     "data": {
      "text/plain": [
       "Pipeline(steps=[('rfe', RFE(estimator=RandomForestClassifier(max_depth=3))),\n",
       "                ('resampling', SMOTE()),\n",
       "                ('rfc',\n",
       "                 RandomForestClassifier(max_depth=10, min_samples_split=7))])"
      ]
     },
     "execution_count": 94,
     "metadata": {},
     "output_type": "execute_result"
    }
   ],
   "source": [
    "rfc_tuned.fit(X,y)"
   ]
  },
  {
   "cell_type": "code",
   "execution_count": 91,
   "metadata": {},
   "outputs": [],
   "source": [
    "new_players = pd.read_csv('new_players.csv').drop('Unnamed: 0', axis=1)"
   ]
  },
  {
   "cell_type": "code",
   "execution_count": 92,
   "metadata": {},
   "outputs": [
    {
     "data": {
      "text/html": [
       "<div>\n",
       "<style scoped>\n",
       "    .dataframe tbody tr th:only-of-type {\n",
       "        vertical-align: middle;\n",
       "    }\n",
       "\n",
       "    .dataframe tbody tr th {\n",
       "        vertical-align: top;\n",
       "    }\n",
       "\n",
       "    .dataframe thead th {\n",
       "        text-align: right;\n",
       "    }\n",
       "</style>\n",
       "<table border=\"1\" class=\"dataframe\">\n",
       "  <thead>\n",
       "    <tr style=\"text-align: right;\">\n",
       "      <th></th>\n",
       "      <th>player_id</th>\n",
       "      <th>age</th>\n",
       "      <th>player_height</th>\n",
       "      <th>player_weight</th>\n",
       "      <th>college</th>\n",
       "      <th>country</th>\n",
       "      <th>gp</th>\n",
       "      <th>pts</th>\n",
       "      <th>reb</th>\n",
       "      <th>ast</th>\n",
       "      <th>net_rating</th>\n",
       "      <th>oreb_pct</th>\n",
       "      <th>dreb_pct</th>\n",
       "      <th>usg_pct</th>\n",
       "      <th>ts_pct</th>\n",
       "      <th>ast_pct</th>\n",
       "    </tr>\n",
       "  </thead>\n",
       "  <tbody>\n",
       "    <tr>\n",
       "      <th>0</th>\n",
       "      <td>1</td>\n",
       "      <td>37.0</td>\n",
       "      <td>205.74</td>\n",
       "      <td>104.326160</td>\n",
       "      <td>Texas Christian</td>\n",
       "      <td>USA</td>\n",
       "      <td>70</td>\n",
       "      <td>3.0</td>\n",
       "      <td>4.2</td>\n",
       "      <td>0.7</td>\n",
       "      <td>-5.2</td>\n",
       "      <td>0.084</td>\n",
       "      <td>0.237</td>\n",
       "      <td>0.114</td>\n",
       "      <td>0.489</td>\n",
       "      <td>0.069</td>\n",
       "    </tr>\n",
       "    <tr>\n",
       "      <th>1</th>\n",
       "      <td>2</td>\n",
       "      <td>33.0</td>\n",
       "      <td>160.02</td>\n",
       "      <td>63.956472</td>\n",
       "      <td>Wake Forest</td>\n",
       "      <td>USA</td>\n",
       "      <td>61</td>\n",
       "      <td>5.7</td>\n",
       "      <td>2.2</td>\n",
       "      <td>5.4</td>\n",
       "      <td>-8.4</td>\n",
       "      <td>0.020</td>\n",
       "      <td>0.074</td>\n",
       "      <td>0.129</td>\n",
       "      <td>0.492</td>\n",
       "      <td>0.344</td>\n",
       "    </tr>\n",
       "    <tr>\n",
       "      <th>2</th>\n",
       "      <td>3</td>\n",
       "      <td>27.0</td>\n",
       "      <td>193.04</td>\n",
       "      <td>95.254320</td>\n",
       "      <td>Indiana</td>\n",
       "      <td>USA</td>\n",
       "      <td>36</td>\n",
       "      <td>18.8</td>\n",
       "      <td>5.6</td>\n",
       "      <td>5.2</td>\n",
       "      <td>5.6</td>\n",
       "      <td>0.018</td>\n",
       "      <td>0.154</td>\n",
       "      <td>0.278</td>\n",
       "      <td>0.519</td>\n",
       "      <td>0.250</td>\n",
       "    </tr>\n",
       "    <tr>\n",
       "      <th>3</th>\n",
       "      <td>4</td>\n",
       "      <td>21.0</td>\n",
       "      <td>195.58</td>\n",
       "      <td>99.790240</td>\n",
       "      <td>Cincinnati</td>\n",
       "      <td>USA</td>\n",
       "      <td>42</td>\n",
       "      <td>2.5</td>\n",
       "      <td>1.3</td>\n",
       "      <td>1.1</td>\n",
       "      <td>-4.2</td>\n",
       "      <td>0.030</td>\n",
       "      <td>0.115</td>\n",
       "      <td>0.171</td>\n",
       "      <td>0.400</td>\n",
       "      <td>0.174</td>\n",
       "    </tr>\n",
       "    <tr>\n",
       "      <th>4</th>\n",
       "      <td>5</td>\n",
       "      <td>23.0</td>\n",
       "      <td>215.90</td>\n",
       "      <td>122.469840</td>\n",
       "      <td>None</td>\n",
       "      <td>USA</td>\n",
       "      <td>26</td>\n",
       "      <td>3.3</td>\n",
       "      <td>3.4</td>\n",
       "      <td>0.3</td>\n",
       "      <td>-7.8</td>\n",
       "      <td>0.069</td>\n",
       "      <td>0.221</td>\n",
       "      <td>0.112</td>\n",
       "      <td>0.551</td>\n",
       "      <td>0.037</td>\n",
       "    </tr>\n",
       "    <tr>\n",
       "      <th>...</th>\n",
       "      <td>...</td>\n",
       "      <td>...</td>\n",
       "      <td>...</td>\n",
       "      <td>...</td>\n",
       "      <td>...</td>\n",
       "      <td>...</td>\n",
       "      <td>...</td>\n",
       "      <td>...</td>\n",
       "      <td>...</td>\n",
       "      <td>...</td>\n",
       "      <td>...</td>\n",
       "      <td>...</td>\n",
       "      <td>...</td>\n",
       "      <td>...</td>\n",
       "      <td>...</td>\n",
       "      <td>...</td>\n",
       "    </tr>\n",
       "    <tr>\n",
       "      <th>495</th>\n",
       "      <td>496</td>\n",
       "      <td>28.0</td>\n",
       "      <td>200.66</td>\n",
       "      <td>103.418976</td>\n",
       "      <td>Nevada-Las Vegas</td>\n",
       "      <td>USA</td>\n",
       "      <td>81</td>\n",
       "      <td>21.8</td>\n",
       "      <td>11.8</td>\n",
       "      <td>1.8</td>\n",
       "      <td>7.1</td>\n",
       "      <td>0.086</td>\n",
       "      <td>0.238</td>\n",
       "      <td>0.222</td>\n",
       "      <td>0.591</td>\n",
       "      <td>0.068</td>\n",
       "    </tr>\n",
       "    <tr>\n",
       "      <th>496</th>\n",
       "      <td>497</td>\n",
       "      <td>28.0</td>\n",
       "      <td>200.66</td>\n",
       "      <td>107.047712</td>\n",
       "      <td>California</td>\n",
       "      <td>USA</td>\n",
       "      <td>78</td>\n",
       "      <td>12.8</td>\n",
       "      <td>4.4</td>\n",
       "      <td>1.6</td>\n",
       "      <td>-4.9</td>\n",
       "      <td>0.054</td>\n",
       "      <td>0.124</td>\n",
       "      <td>0.233</td>\n",
       "      <td>0.490</td>\n",
       "      <td>0.099</td>\n",
       "    </tr>\n",
       "    <tr>\n",
       "      <th>497</th>\n",
       "      <td>498</td>\n",
       "      <td>23.0</td>\n",
       "      <td>208.28</td>\n",
       "      <td>103.418976</td>\n",
       "      <td>Wisconsin</td>\n",
       "      <td>USA</td>\n",
       "      <td>46</td>\n",
       "      <td>4.7</td>\n",
       "      <td>2.6</td>\n",
       "      <td>0.5</td>\n",
       "      <td>0.2</td>\n",
       "      <td>0.087</td>\n",
       "      <td>0.162</td>\n",
       "      <td>0.174</td>\n",
       "      <td>0.536</td>\n",
       "      <td>0.072</td>\n",
       "    </tr>\n",
       "    <tr>\n",
       "      <th>498</th>\n",
       "      <td>499</td>\n",
       "      <td>24.0</td>\n",
       "      <td>213.36</td>\n",
       "      <td>108.862080</td>\n",
       "      <td>DePaul</td>\n",
       "      <td>USA</td>\n",
       "      <td>69</td>\n",
       "      <td>6.1</td>\n",
       "      <td>3.9</td>\n",
       "      <td>0.2</td>\n",
       "      <td>-1.7</td>\n",
       "      <td>0.099</td>\n",
       "      <td>0.140</td>\n",
       "      <td>0.146</td>\n",
       "      <td>0.598</td>\n",
       "      <td>0.021</td>\n",
       "    </tr>\n",
       "    <tr>\n",
       "      <th>499</th>\n",
       "      <td>500</td>\n",
       "      <td>31.0</td>\n",
       "      <td>203.20</td>\n",
       "      <td>113.398000</td>\n",
       "      <td>Tennessee State</td>\n",
       "      <td>USA</td>\n",
       "      <td>81</td>\n",
       "      <td>12.8</td>\n",
       "      <td>10.2</td>\n",
       "      <td>4.2</td>\n",
       "      <td>2.5</td>\n",
       "      <td>0.070</td>\n",
       "      <td>0.247</td>\n",
       "      <td>0.162</td>\n",
       "      <td>0.552</td>\n",
       "      <td>0.174</td>\n",
       "    </tr>\n",
       "  </tbody>\n",
       "</table>\n",
       "<p>500 rows × 16 columns</p>\n",
       "</div>"
      ],
      "text/plain": [
       "     player_id   age  player_height  player_weight           college country  \\\n",
       "0            1  37.0         205.74     104.326160   Texas Christian     USA   \n",
       "1            2  33.0         160.02      63.956472       Wake Forest     USA   \n",
       "2            3  27.0         193.04      95.254320           Indiana     USA   \n",
       "3            4  21.0         195.58      99.790240        Cincinnati     USA   \n",
       "4            5  23.0         215.90     122.469840              None     USA   \n",
       "..         ...   ...            ...            ...               ...     ...   \n",
       "495        496  28.0         200.66     103.418976  Nevada-Las Vegas     USA   \n",
       "496        497  28.0         200.66     107.047712        California     USA   \n",
       "497        498  23.0         208.28     103.418976         Wisconsin     USA   \n",
       "498        499  24.0         213.36     108.862080            DePaul     USA   \n",
       "499        500  31.0         203.20     113.398000   Tennessee State     USA   \n",
       "\n",
       "     gp   pts   reb  ast  net_rating  oreb_pct  dreb_pct  usg_pct  ts_pct  \\\n",
       "0    70   3.0   4.2  0.7        -5.2     0.084     0.237    0.114   0.489   \n",
       "1    61   5.7   2.2  5.4        -8.4     0.020     0.074    0.129   0.492   \n",
       "2    36  18.8   5.6  5.2         5.6     0.018     0.154    0.278   0.519   \n",
       "3    42   2.5   1.3  1.1        -4.2     0.030     0.115    0.171   0.400   \n",
       "4    26   3.3   3.4  0.3        -7.8     0.069     0.221    0.112   0.551   \n",
       "..   ..   ...   ...  ...         ...       ...       ...      ...     ...   \n",
       "495  81  21.8  11.8  1.8         7.1     0.086     0.238    0.222   0.591   \n",
       "496  78  12.8   4.4  1.6        -4.9     0.054     0.124    0.233   0.490   \n",
       "497  46   4.7   2.6  0.5         0.2     0.087     0.162    0.174   0.536   \n",
       "498  69   6.1   3.9  0.2        -1.7     0.099     0.140    0.146   0.598   \n",
       "499  81  12.8  10.2  4.2         2.5     0.070     0.247    0.162   0.552   \n",
       "\n",
       "     ast_pct  \n",
       "0      0.069  \n",
       "1      0.344  \n",
       "2      0.250  \n",
       "3      0.174  \n",
       "4      0.037  \n",
       "..       ...  \n",
       "495    0.068  \n",
       "496    0.099  \n",
       "497    0.072  \n",
       "498    0.021  \n",
       "499    0.174  \n",
       "\n",
       "[500 rows x 16 columns]"
      ]
     },
     "execution_count": 92,
     "metadata": {},
     "output_type": "execute_result"
    }
   ],
   "source": [
    "new_players"
   ]
  },
  {
   "cell_type": "code",
   "execution_count": 116,
   "metadata": {},
   "outputs": [],
   "source": [
    "new_potential = rfc_tuned.predict(new_players.drop(['player_id', 'college', 'country'], axis=1))"
   ]
  },
  {
   "cell_type": "code",
   "execution_count": 118,
   "metadata": {},
   "outputs": [],
   "source": [
    "new_players['potential_player'] = new_potential"
   ]
  },
  {
   "cell_type": "code",
   "execution_count": 119,
   "metadata": {},
   "outputs": [
    {
     "data": {
      "text/html": [
       "<div>\n",
       "<style scoped>\n",
       "    .dataframe tbody tr th:only-of-type {\n",
       "        vertical-align: middle;\n",
       "    }\n",
       "\n",
       "    .dataframe tbody tr th {\n",
       "        vertical-align: top;\n",
       "    }\n",
       "\n",
       "    .dataframe thead th {\n",
       "        text-align: right;\n",
       "    }\n",
       "</style>\n",
       "<table border=\"1\" class=\"dataframe\">\n",
       "  <thead>\n",
       "    <tr style=\"text-align: right;\">\n",
       "      <th></th>\n",
       "      <th>player_id</th>\n",
       "      <th>age</th>\n",
       "      <th>player_height</th>\n",
       "      <th>player_weight</th>\n",
       "      <th>college</th>\n",
       "      <th>country</th>\n",
       "      <th>gp</th>\n",
       "      <th>pts</th>\n",
       "      <th>reb</th>\n",
       "      <th>ast</th>\n",
       "      <th>net_rating</th>\n",
       "      <th>oreb_pct</th>\n",
       "      <th>dreb_pct</th>\n",
       "      <th>usg_pct</th>\n",
       "      <th>ts_pct</th>\n",
       "      <th>ast_pct</th>\n",
       "      <th>potential_player</th>\n",
       "    </tr>\n",
       "  </thead>\n",
       "  <tbody>\n",
       "    <tr>\n",
       "      <th>0</th>\n",
       "      <td>1</td>\n",
       "      <td>37.0</td>\n",
       "      <td>205.74</td>\n",
       "      <td>104.326160</td>\n",
       "      <td>Texas Christian</td>\n",
       "      <td>USA</td>\n",
       "      <td>70</td>\n",
       "      <td>3.0</td>\n",
       "      <td>4.2</td>\n",
       "      <td>0.7</td>\n",
       "      <td>-5.2</td>\n",
       "      <td>0.084</td>\n",
       "      <td>0.237</td>\n",
       "      <td>0.114</td>\n",
       "      <td>0.489</td>\n",
       "      <td>0.069</td>\n",
       "      <td>0</td>\n",
       "    </tr>\n",
       "    <tr>\n",
       "      <th>1</th>\n",
       "      <td>2</td>\n",
       "      <td>33.0</td>\n",
       "      <td>160.02</td>\n",
       "      <td>63.956472</td>\n",
       "      <td>Wake Forest</td>\n",
       "      <td>USA</td>\n",
       "      <td>61</td>\n",
       "      <td>5.7</td>\n",
       "      <td>2.2</td>\n",
       "      <td>5.4</td>\n",
       "      <td>-8.4</td>\n",
       "      <td>0.020</td>\n",
       "      <td>0.074</td>\n",
       "      <td>0.129</td>\n",
       "      <td>0.492</td>\n",
       "      <td>0.344</td>\n",
       "      <td>0</td>\n",
       "    </tr>\n",
       "    <tr>\n",
       "      <th>2</th>\n",
       "      <td>3</td>\n",
       "      <td>27.0</td>\n",
       "      <td>193.04</td>\n",
       "      <td>95.254320</td>\n",
       "      <td>Indiana</td>\n",
       "      <td>USA</td>\n",
       "      <td>36</td>\n",
       "      <td>18.8</td>\n",
       "      <td>5.6</td>\n",
       "      <td>5.2</td>\n",
       "      <td>5.6</td>\n",
       "      <td>0.018</td>\n",
       "      <td>0.154</td>\n",
       "      <td>0.278</td>\n",
       "      <td>0.519</td>\n",
       "      <td>0.250</td>\n",
       "      <td>1</td>\n",
       "    </tr>\n",
       "    <tr>\n",
       "      <th>3</th>\n",
       "      <td>4</td>\n",
       "      <td>21.0</td>\n",
       "      <td>195.58</td>\n",
       "      <td>99.790240</td>\n",
       "      <td>Cincinnati</td>\n",
       "      <td>USA</td>\n",
       "      <td>42</td>\n",
       "      <td>2.5</td>\n",
       "      <td>1.3</td>\n",
       "      <td>1.1</td>\n",
       "      <td>-4.2</td>\n",
       "      <td>0.030</td>\n",
       "      <td>0.115</td>\n",
       "      <td>0.171</td>\n",
       "      <td>0.400</td>\n",
       "      <td>0.174</td>\n",
       "      <td>0</td>\n",
       "    </tr>\n",
       "    <tr>\n",
       "      <th>4</th>\n",
       "      <td>5</td>\n",
       "      <td>23.0</td>\n",
       "      <td>215.90</td>\n",
       "      <td>122.469840</td>\n",
       "      <td>None</td>\n",
       "      <td>USA</td>\n",
       "      <td>26</td>\n",
       "      <td>3.3</td>\n",
       "      <td>3.4</td>\n",
       "      <td>0.3</td>\n",
       "      <td>-7.8</td>\n",
       "      <td>0.069</td>\n",
       "      <td>0.221</td>\n",
       "      <td>0.112</td>\n",
       "      <td>0.551</td>\n",
       "      <td>0.037</td>\n",
       "      <td>0</td>\n",
       "    </tr>\n",
       "    <tr>\n",
       "      <th>...</th>\n",
       "      <td>...</td>\n",
       "      <td>...</td>\n",
       "      <td>...</td>\n",
       "      <td>...</td>\n",
       "      <td>...</td>\n",
       "      <td>...</td>\n",
       "      <td>...</td>\n",
       "      <td>...</td>\n",
       "      <td>...</td>\n",
       "      <td>...</td>\n",
       "      <td>...</td>\n",
       "      <td>...</td>\n",
       "      <td>...</td>\n",
       "      <td>...</td>\n",
       "      <td>...</td>\n",
       "      <td>...</td>\n",
       "      <td>...</td>\n",
       "    </tr>\n",
       "    <tr>\n",
       "      <th>495</th>\n",
       "      <td>496</td>\n",
       "      <td>28.0</td>\n",
       "      <td>200.66</td>\n",
       "      <td>103.418976</td>\n",
       "      <td>Nevada-Las Vegas</td>\n",
       "      <td>USA</td>\n",
       "      <td>81</td>\n",
       "      <td>21.8</td>\n",
       "      <td>11.8</td>\n",
       "      <td>1.8</td>\n",
       "      <td>7.1</td>\n",
       "      <td>0.086</td>\n",
       "      <td>0.238</td>\n",
       "      <td>0.222</td>\n",
       "      <td>0.591</td>\n",
       "      <td>0.068</td>\n",
       "      <td>0</td>\n",
       "    </tr>\n",
       "    <tr>\n",
       "      <th>496</th>\n",
       "      <td>497</td>\n",
       "      <td>28.0</td>\n",
       "      <td>200.66</td>\n",
       "      <td>107.047712</td>\n",
       "      <td>California</td>\n",
       "      <td>USA</td>\n",
       "      <td>78</td>\n",
       "      <td>12.8</td>\n",
       "      <td>4.4</td>\n",
       "      <td>1.6</td>\n",
       "      <td>-4.9</td>\n",
       "      <td>0.054</td>\n",
       "      <td>0.124</td>\n",
       "      <td>0.233</td>\n",
       "      <td>0.490</td>\n",
       "      <td>0.099</td>\n",
       "      <td>0</td>\n",
       "    </tr>\n",
       "    <tr>\n",
       "      <th>497</th>\n",
       "      <td>498</td>\n",
       "      <td>23.0</td>\n",
       "      <td>208.28</td>\n",
       "      <td>103.418976</td>\n",
       "      <td>Wisconsin</td>\n",
       "      <td>USA</td>\n",
       "      <td>46</td>\n",
       "      <td>4.7</td>\n",
       "      <td>2.6</td>\n",
       "      <td>0.5</td>\n",
       "      <td>0.2</td>\n",
       "      <td>0.087</td>\n",
       "      <td>0.162</td>\n",
       "      <td>0.174</td>\n",
       "      <td>0.536</td>\n",
       "      <td>0.072</td>\n",
       "      <td>0</td>\n",
       "    </tr>\n",
       "    <tr>\n",
       "      <th>498</th>\n",
       "      <td>499</td>\n",
       "      <td>24.0</td>\n",
       "      <td>213.36</td>\n",
       "      <td>108.862080</td>\n",
       "      <td>DePaul</td>\n",
       "      <td>USA</td>\n",
       "      <td>69</td>\n",
       "      <td>6.1</td>\n",
       "      <td>3.9</td>\n",
       "      <td>0.2</td>\n",
       "      <td>-1.7</td>\n",
       "      <td>0.099</td>\n",
       "      <td>0.140</td>\n",
       "      <td>0.146</td>\n",
       "      <td>0.598</td>\n",
       "      <td>0.021</td>\n",
       "      <td>0</td>\n",
       "    </tr>\n",
       "    <tr>\n",
       "      <th>499</th>\n",
       "      <td>500</td>\n",
       "      <td>31.0</td>\n",
       "      <td>203.20</td>\n",
       "      <td>113.398000</td>\n",
       "      <td>Tennessee State</td>\n",
       "      <td>USA</td>\n",
       "      <td>81</td>\n",
       "      <td>12.8</td>\n",
       "      <td>10.2</td>\n",
       "      <td>4.2</td>\n",
       "      <td>2.5</td>\n",
       "      <td>0.070</td>\n",
       "      <td>0.247</td>\n",
       "      <td>0.162</td>\n",
       "      <td>0.552</td>\n",
       "      <td>0.174</td>\n",
       "      <td>0</td>\n",
       "    </tr>\n",
       "  </tbody>\n",
       "</table>\n",
       "<p>500 rows × 17 columns</p>\n",
       "</div>"
      ],
      "text/plain": [
       "     player_id   age  player_height  player_weight           college country  \\\n",
       "0            1  37.0         205.74     104.326160   Texas Christian     USA   \n",
       "1            2  33.0         160.02      63.956472       Wake Forest     USA   \n",
       "2            3  27.0         193.04      95.254320           Indiana     USA   \n",
       "3            4  21.0         195.58      99.790240        Cincinnati     USA   \n",
       "4            5  23.0         215.90     122.469840              None     USA   \n",
       "..         ...   ...            ...            ...               ...     ...   \n",
       "495        496  28.0         200.66     103.418976  Nevada-Las Vegas     USA   \n",
       "496        497  28.0         200.66     107.047712        California     USA   \n",
       "497        498  23.0         208.28     103.418976         Wisconsin     USA   \n",
       "498        499  24.0         213.36     108.862080            DePaul     USA   \n",
       "499        500  31.0         203.20     113.398000   Tennessee State     USA   \n",
       "\n",
       "     gp   pts   reb  ast  net_rating  oreb_pct  dreb_pct  usg_pct  ts_pct  \\\n",
       "0    70   3.0   4.2  0.7        -5.2     0.084     0.237    0.114   0.489   \n",
       "1    61   5.7   2.2  5.4        -8.4     0.020     0.074    0.129   0.492   \n",
       "2    36  18.8   5.6  5.2         5.6     0.018     0.154    0.278   0.519   \n",
       "3    42   2.5   1.3  1.1        -4.2     0.030     0.115    0.171   0.400   \n",
       "4    26   3.3   3.4  0.3        -7.8     0.069     0.221    0.112   0.551   \n",
       "..   ..   ...   ...  ...         ...       ...       ...      ...     ...   \n",
       "495  81  21.8  11.8  1.8         7.1     0.086     0.238    0.222   0.591   \n",
       "496  78  12.8   4.4  1.6        -4.9     0.054     0.124    0.233   0.490   \n",
       "497  46   4.7   2.6  0.5         0.2     0.087     0.162    0.174   0.536   \n",
       "498  69   6.1   3.9  0.2        -1.7     0.099     0.140    0.146   0.598   \n",
       "499  81  12.8  10.2  4.2         2.5     0.070     0.247    0.162   0.552   \n",
       "\n",
       "     ast_pct  potential_player  \n",
       "0      0.069                 0  \n",
       "1      0.344                 0  \n",
       "2      0.250                 1  \n",
       "3      0.174                 0  \n",
       "4      0.037                 0  \n",
       "..       ...               ...  \n",
       "495    0.068                 0  \n",
       "496    0.099                 0  \n",
       "497    0.072                 0  \n",
       "498    0.021                 0  \n",
       "499    0.174                 0  \n",
       "\n",
       "[500 rows x 17 columns]"
      ]
     },
     "execution_count": 119,
     "metadata": {},
     "output_type": "execute_result"
    }
   ],
   "source": [
    "new_players"
   ]
  },
  {
   "cell_type": "code",
   "execution_count": 134,
   "metadata": {},
   "outputs": [
    {
     "data": {
      "text/plain": [
       "Index(['player_id', 'age', 'player_height', 'player_weight', 'college',\n",
       "       'country', 'gp', 'pts', 'reb', 'ast', 'net_rating', 'oreb_pct',\n",
       "       'dreb_pct', 'usg_pct', 'ts_pct', 'ast_pct', 'potential_player'],\n",
       "      dtype='object')"
      ]
     },
     "execution_count": 134,
     "metadata": {},
     "output_type": "execute_result"
    }
   ],
   "source": [
    "new_players.columns"
   ]
  },
  {
   "cell_type": "code",
   "execution_count": 120,
   "metadata": {
    "tags": []
   },
   "outputs": [
    {
     "name": "stdout",
     "output_type": "stream",
     "text": [
      "Jumlah pemain yang berpotensi sebanyak 16\n"
     ]
    }
   ],
   "source": [
    "print(f\"Jumlah pemain yang berpotensi sebanyak {len(new_players[new_players['potential_player']==1])}\")"
   ]
  },
  {
   "cell_type": "code",
   "execution_count": 135,
   "metadata": {},
   "outputs": [
    {
     "data": {
      "text/plain": [
       "Index(['age', 'player_height', 'player_weight', 'gp', 'pts', 'reb', 'ast',\n",
       "       'net_rating', 'oreb_pct', 'dreb_pct', 'usg_pct', 'ts_pct', 'ast_pct'],\n",
       "      dtype='object')"
      ]
     },
     "execution_count": 135,
     "metadata": {},
     "output_type": "execute_result"
    }
   ],
   "source": [
    "X_train_val.columns"
   ]
  },
  {
   "cell_type": "markdown",
   "metadata": {},
   "source": [
    "# Jumlah pemain potensial dari dataset new_players.csv adalah 16 orang"
   ]
  }
 ],
 "metadata": {
  "kernelspec": {
   "display_name": "Python 3",
   "language": "python",
   "name": "python3"
  },
  "language_info": {
   "codemirror_mode": {
    "name": "ipython",
    "version": 3
   },
   "file_extension": ".py",
   "mimetype": "text/x-python",
   "name": "python",
   "nbconvert_exporter": "python",
   "pygments_lexer": "ipython3",
   "version": "3.8.3"
  }
 },
 "nbformat": 4,
 "nbformat_minor": 4
}
